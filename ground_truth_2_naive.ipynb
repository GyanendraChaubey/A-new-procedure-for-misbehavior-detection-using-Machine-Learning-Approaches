{
 "cells": [
  {
   "cell_type": "code",
   "execution_count": 1,
   "metadata": {},
   "outputs": [],
   "source": [
    "import pandas as pd\n",
    "import numpy as np"
   ]
  },
  {
   "cell_type": "code",
   "execution_count": 2,
   "metadata": {},
   "outputs": [
    {
     "data": {
      "text/html": [
       "<div>\n",
       "<style scoped>\n",
       "    .dataframe tbody tr th:only-of-type {\n",
       "        vertical-align: middle;\n",
       "    }\n",
       "\n",
       "    .dataframe tbody tr th {\n",
       "        vertical-align: top;\n",
       "    }\n",
       "\n",
       "    .dataframe thead th {\n",
       "        text-align: right;\n",
       "    }\n",
       "</style>\n",
       "<table border=\"1\" class=\"dataframe\">\n",
       "  <thead>\n",
       "    <tr style=\"text-align: right;\">\n",
       "      <th></th>\n",
       "      <th>type</th>\n",
       "      <th>time</th>\n",
       "      <th>sender</th>\n",
       "      <th>attackerType</th>\n",
       "      <th>messageID</th>\n",
       "      <th>pos__001</th>\n",
       "      <th>pos__002</th>\n",
       "      <th>pos__003</th>\n",
       "      <th>pos_noise__001</th>\n",
       "      <th>pos_noise__002</th>\n",
       "      <th>pos_noise__003</th>\n",
       "      <th>spd__001</th>\n",
       "      <th>spd__002</th>\n",
       "      <th>spd__003</th>\n",
       "      <th>spd_noise__001</th>\n",
       "      <th>spd_noise__002</th>\n",
       "      <th>spd_noise__003</th>\n",
       "    </tr>\n",
       "  </thead>\n",
       "  <tbody>\n",
       "    <tr>\n",
       "      <th>0</th>\n",
       "      <td>4</td>\n",
       "      <td>10800.065710</td>\n",
       "      <td>25</td>\n",
       "      <td>0</td>\n",
       "      <td>38</td>\n",
       "      <td>3594.503928</td>\n",
       "      <td>5822.136692</td>\n",
       "      <td>1.895</td>\n",
       "      <td>0.0</td>\n",
       "      <td>0.0</td>\n",
       "      <td>0.0</td>\n",
       "      <td>-0.020621</td>\n",
       "      <td>-35.392890</td>\n",
       "      <td>0.0</td>\n",
       "      <td>0.0</td>\n",
       "      <td>0.0</td>\n",
       "      <td>0.0</td>\n",
       "    </tr>\n",
       "    <tr>\n",
       "      <th>1</th>\n",
       "      <td>4</td>\n",
       "      <td>10800.241039</td>\n",
       "      <td>37</td>\n",
       "      <td>0</td>\n",
       "      <td>63</td>\n",
       "      <td>3588.387672</td>\n",
       "      <td>6003.151424</td>\n",
       "      <td>1.895</td>\n",
       "      <td>0.0</td>\n",
       "      <td>0.0</td>\n",
       "      <td>0.0</td>\n",
       "      <td>2.733597</td>\n",
       "      <td>36.816215</td>\n",
       "      <td>0.0</td>\n",
       "      <td>0.0</td>\n",
       "      <td>0.0</td>\n",
       "      <td>0.0</td>\n",
       "    </tr>\n",
       "  </tbody>\n",
       "</table>\n",
       "</div>"
      ],
      "text/plain": [
       "   type          time  sender  attackerType  messageID     pos__001  \\\n",
       "0     4  10800.065710      25             0         38  3594.503928   \n",
       "1     4  10800.241039      37             0         63  3588.387672   \n",
       "\n",
       "      pos__002  pos__003  pos_noise__001  pos_noise__002  pos_noise__003  \\\n",
       "0  5822.136692     1.895             0.0             0.0             0.0   \n",
       "1  6003.151424     1.895             0.0             0.0             0.0   \n",
       "\n",
       "   spd__001   spd__002  spd__003  spd_noise__001  spd_noise__002  \\\n",
       "0 -0.020621 -35.392890       0.0             0.0             0.0   \n",
       "1  2.733597  36.816215       0.0             0.0             0.0   \n",
       "\n",
       "   spd_noise__003  \n",
       "0             0.0  \n",
       "1             0.0  "
      ]
     },
     "execution_count": 2,
     "metadata": {},
     "output_type": "execute_result"
    }
   ],
   "source": [
    "df = pd.read_csv(r'D:/data_science/Research/GroundTruthJSONlog_2.csv')\n",
    "df.head(2)"
   ]
  },
  {
   "cell_type": "code",
   "execution_count": 3,
   "metadata": {},
   "outputs": [],
   "source": [
    "df.drop(['type','pos_noise__001','pos_noise__002','pos_noise__003','spd_noise__001','spd_noise__002','spd_noise__003','spd__003'],axis = 1, inplace = True)"
   ]
  },
  {
   "cell_type": "code",
   "execution_count": 4,
   "metadata": {},
   "outputs": [
    {
     "data": {
      "text/html": [
       "<div>\n",
       "<style scoped>\n",
       "    .dataframe tbody tr th:only-of-type {\n",
       "        vertical-align: middle;\n",
       "    }\n",
       "\n",
       "    .dataframe tbody tr th {\n",
       "        vertical-align: top;\n",
       "    }\n",
       "\n",
       "    .dataframe thead th {\n",
       "        text-align: right;\n",
       "    }\n",
       "</style>\n",
       "<table border=\"1\" class=\"dataframe\">\n",
       "  <thead>\n",
       "    <tr style=\"text-align: right;\">\n",
       "      <th></th>\n",
       "      <th>time</th>\n",
       "      <th>sender</th>\n",
       "      <th>attackerType</th>\n",
       "      <th>messageID</th>\n",
       "      <th>pos__001</th>\n",
       "      <th>pos__002</th>\n",
       "      <th>pos__003</th>\n",
       "      <th>spd__001</th>\n",
       "      <th>spd__002</th>\n",
       "    </tr>\n",
       "  </thead>\n",
       "  <tbody>\n",
       "    <tr>\n",
       "      <th>0</th>\n",
       "      <td>10800.065710</td>\n",
       "      <td>25</td>\n",
       "      <td>0</td>\n",
       "      <td>38</td>\n",
       "      <td>3594.503928</td>\n",
       "      <td>5822.136692</td>\n",
       "      <td>1.895</td>\n",
       "      <td>-0.020621</td>\n",
       "      <td>-35.392890</td>\n",
       "    </tr>\n",
       "    <tr>\n",
       "      <th>1</th>\n",
       "      <td>10800.241039</td>\n",
       "      <td>37</td>\n",
       "      <td>0</td>\n",
       "      <td>63</td>\n",
       "      <td>3588.387672</td>\n",
       "      <td>6003.151424</td>\n",
       "      <td>1.895</td>\n",
       "      <td>2.733597</td>\n",
       "      <td>36.816215</td>\n",
       "    </tr>\n",
       "  </tbody>\n",
       "</table>\n",
       "</div>"
      ],
      "text/plain": [
       "           time  sender  attackerType  messageID     pos__001     pos__002  \\\n",
       "0  10800.065710      25             0         38  3594.503928  5822.136692   \n",
       "1  10800.241039      37             0         63  3588.387672  6003.151424   \n",
       "\n",
       "   pos__003  spd__001   spd__002  \n",
       "0     1.895 -0.020621 -35.392890  \n",
       "1     1.895  2.733597  36.816215  "
      ]
     },
     "execution_count": 4,
     "metadata": {},
     "output_type": "execute_result"
    }
   ],
   "source": [
    "df.head(2)"
   ]
  },
  {
   "cell_type": "code",
   "execution_count": 5,
   "metadata": {},
   "outputs": [],
   "source": [
    "x = df[['time','sender','messageID','pos__001','pos__002','pos__003','spd__001','spd__002']]\n",
    "y = df.iloc[:,2:3].values"
   ]
  },
  {
   "cell_type": "code",
   "execution_count": 6,
   "metadata": {},
   "outputs": [
    {
     "name": "stderr",
     "output_type": "stream",
     "text": [
      "Using TensorFlow backend.\n",
      "C:\\Users\\Jayesh\\anaconda3\\lib\\site-packages\\tensorflow\\python\\framework\\dtypes.py:526: FutureWarning: Passing (type, 1) or '1type' as a synonym of type is deprecated; in a future version of numpy, it will be understood as (type, (1,)) / '(1,)type'.\n",
      "  _np_qint8 = np.dtype([(\"qint8\", np.int8, 1)])\n",
      "C:\\Users\\Jayesh\\anaconda3\\lib\\site-packages\\tensorflow\\python\\framework\\dtypes.py:527: FutureWarning: Passing (type, 1) or '1type' as a synonym of type is deprecated; in a future version of numpy, it will be understood as (type, (1,)) / '(1,)type'.\n",
      "  _np_quint8 = np.dtype([(\"quint8\", np.uint8, 1)])\n",
      "C:\\Users\\Jayesh\\anaconda3\\lib\\site-packages\\tensorflow\\python\\framework\\dtypes.py:528: FutureWarning: Passing (type, 1) or '1type' as a synonym of type is deprecated; in a future version of numpy, it will be understood as (type, (1,)) / '(1,)type'.\n",
      "  _np_qint16 = np.dtype([(\"qint16\", np.int16, 1)])\n",
      "C:\\Users\\Jayesh\\anaconda3\\lib\\site-packages\\tensorflow\\python\\framework\\dtypes.py:529: FutureWarning: Passing (type, 1) or '1type' as a synonym of type is deprecated; in a future version of numpy, it will be understood as (type, (1,)) / '(1,)type'.\n",
      "  _np_quint16 = np.dtype([(\"quint16\", np.uint16, 1)])\n",
      "C:\\Users\\Jayesh\\anaconda3\\lib\\site-packages\\tensorflow\\python\\framework\\dtypes.py:530: FutureWarning: Passing (type, 1) or '1type' as a synonym of type is deprecated; in a future version of numpy, it will be understood as (type, (1,)) / '(1,)type'.\n",
      "  _np_qint32 = np.dtype([(\"qint32\", np.int32, 1)])\n",
      "C:\\Users\\Jayesh\\anaconda3\\lib\\site-packages\\tensorflow\\python\\framework\\dtypes.py:535: FutureWarning: Passing (type, 1) or '1type' as a synonym of type is deprecated; in a future version of numpy, it will be understood as (type, (1,)) / '(1,)type'.\n",
      "  np_resource = np.dtype([(\"resource\", np.ubyte, 1)])\n"
     ]
    }
   ],
   "source": [
    "from imblearn.combine import SMOTETomek\n",
    "smk = SMOTETomek(random_state = 0)\n",
    "x, y = smk.fit_sample(x,y)"
   ]
  },
  {
   "cell_type": "code",
   "execution_count": 7,
   "metadata": {},
   "outputs": [],
   "source": [
    "#Spliting dataset into Train and Test set \n",
    "from sklearn.model_selection import train_test_split\n",
    "x_train,x_test,y_train,y_test = train_test_split(x,y,test_size = 0.3, random_state = 0)"
   ]
  },
  {
   "cell_type": "code",
   "execution_count": 8,
   "metadata": {},
   "outputs": [],
   "source": [
    "#Feature Scaling\n",
    "from sklearn.preprocessing import StandardScaler\n",
    "sc = StandardScaler()\n",
    "x_train = sc.fit_transform(x_train)\n",
    "x_test = sc.transform(x_test)"
   ]
  },
  {
   "cell_type": "code",
   "execution_count": 9,
   "metadata": {},
   "outputs": [],
   "source": [
    "#Building Model\n",
    "from sklearn.naive_bayes import GaussianNB\n",
    "reg = GaussianNB()\n",
    "reg.fit(x_train,y_train)\n",
    "y_pred = reg.predict(x_test)\n"
   ]
  },
  {
   "cell_type": "code",
   "execution_count": 10,
   "metadata": {},
   "outputs": [
    {
     "name": "stdout",
     "output_type": "stream",
     "text": [
      "Accuracy: 77.84%\n"
     ]
    }
   ],
   "source": [
    "\n",
    "#checking Accuracy\n",
    "from sklearn.metrics import accuracy_score\n",
    "accuracy = accuracy_score(y_test, y_pred)\n",
    "print(\"Accuracy: %.2f%%\" % (accuracy * 100.0))"
   ]
  },
  {
   "cell_type": "code",
   "execution_count": 11,
   "metadata": {},
   "outputs": [
    {
     "name": "stdout",
     "output_type": "stream",
     "text": [
      "[[168  92]\n",
      " [ 25 243]]\n"
     ]
    },
    {
     "name": "stderr",
     "output_type": "stream",
     "text": [
      "C:\\Users\\Jayesh\\anaconda3\\lib\\site-packages\\ipykernel_launcher.py:8: MatplotlibDeprecationWarning: Adding an axes using the same arguments as a previous axes currently reuses the earlier instance.  In a future version, a new instance will always be created and returned.  Meanwhile, this warning can be suppressed, and the future behavior ensured, by passing a unique label to each axes instance.\n",
      "  \n"
     ]
    },
    {
     "data": {
      "text/plain": [
       "Text(0.5, 1, 'Naive Bayes')"
      ]
     },
     "execution_count": 11,
     "metadata": {},
     "output_type": "execute_result"
    },
    {
     "data": {
      "image/png": "[encoded data removed]",
      "text/plain": [
       "<Figure size 432x288 with 2 Axes>"
      ]
     },
     "metadata": {
      "needs_background": "light"
     },
     "output_type": "display_data"
    }
   ],
   "source": [
    "#confusion matrix\n",
    "from sklearn.metrics import confusion_matrix\n",
    "con = confusion_matrix(y_test,y_pred)\n",
    "print(con)\n",
    "import seaborn as sns\n",
    "import matplotlib.pyplot as plt\n",
    "axes = sns.heatmap(con, square=True,annot=True,fmt='d',cbar = True, cmap = plt.cm.GnBu)\n",
    "ax = plt.axes()\n",
    "ax.set_title('Naive Bayes')"
   ]
  },
  {
   "cell_type": "code",
   "execution_count": 12,
   "metadata": {},
   "outputs": [
    {
     "name": "stdout",
     "output_type": "stream",
     "text": [
      "Naive Bayes\n",
      "              precision    recall  f1-score   support\n",
      "\n",
      "           0       0.87      0.65      0.74       260\n",
      "           2       0.73      0.91      0.81       268\n",
      "\n",
      "    accuracy                           0.78       528\n",
      "   macro avg       0.80      0.78      0.77       528\n",
      "weighted avg       0.80      0.78      0.77       528\n",
      "\n"
     ]
    }
   ],
   "source": [
    "from sklearn.metrics import classification_report\n",
    "print('Naive Bayes')\n",
    "print(classification_report(y_test, y_pred))\n"
   ]
  },
  {
   "cell_type": "code",
   "execution_count": 13,
   "metadata": {},
   "outputs": [
    {
     "name": "stdout",
     "output_type": "stream",
     "text": [
      "[9.36122442e-01 7.32414996e-01 5.21982711e-01 6.78174625e-01\n",
      " 9.37488908e-01 9.52975106e-01 8.81261966e-01 9.53429133e-01\n",
      " 8.80347528e-01 3.60565158e-01 1.57989703e-01 5.84546650e-02\n",
      " 8.62631839e-01 4.55491935e-04 4.95023437e-02 5.77955506e-01\n",
      " 6.74462736e-01 9.57403820e-01 1.83976065e-01 9.68120793e-03\n",
      " 8.80703979e-01 5.43100405e-01 8.40505866e-05 9.31496370e-01\n",
      " 9.36216273e-01 8.02090568e-01 8.78224245e-01 7.20870989e-04\n",
      " 2.52573766e-03 6.55657886e-03 7.41835621e-01 7.19022605e-01\n",
      " 6.21651164e-01 7.33467263e-01 8.58196712e-01 8.14951693e-01\n",
      " 9.22991699e-01 2.60802578e-02 1.84858185e-03 7.26998106e-01\n",
      " 6.39532717e-01 4.75899866e-01 9.55629055e-01 8.77045447e-01\n",
      " 9.31132623e-01 9.64547645e-01 7.51223273e-03 8.38144891e-01\n",
      " 9.09819095e-01 8.65444940e-01 7.76671304e-01 4.76660955e-02\n",
      " 9.26033857e-01 3.77365422e-01 1.89969900e-01 8.52460119e-01\n",
      " 9.68461226e-03 7.07509346e-01 3.85942128e-01 8.94513431e-01\n",
      " 4.92446898e-01 8.01673864e-01 7.04243866e-01 2.43102090e-05\n",
      " 5.51463407e-01 7.29809625e-04 6.75575726e-01 5.31594165e-03\n",
      " 6.81871715e-01 8.76086478e-06 7.12347903e-01 1.87957754e-03\n",
      " 9.27343575e-01 7.48300437e-01 7.53033985e-01 2.40766929e-04\n",
      " 9.60590782e-01 1.11624783e-02 8.78165899e-01 8.35185477e-01\n",
      " 7.47821736e-01 2.17913451e-03 3.21440888e-02 3.92640943e-01\n",
      " 3.70718177e-02 9.31821573e-01 7.29915118e-01 7.63706452e-01\n",
      " 9.30467679e-01 7.21076430e-01 9.56535074e-01 2.50159206e-03\n",
      " 8.94214435e-01 3.63639260e-02 9.31513437e-01 9.56191833e-03\n",
      " 8.75843029e-01 1.73938427e-04 4.26915690e-03 9.02597683e-01\n",
      " 9.31171823e-01 6.49545190e-01 8.91998415e-01 1.44906103e-02\n",
      " 7.15821536e-01 4.47203622e-01 7.49906788e-01 8.58711243e-01\n",
      " 1.21247681e-03 7.40370819e-01 9.26833764e-01 2.76862014e-05\n",
      " 7.54920678e-01 7.20475935e-01 3.11822887e-01 7.37241253e-01\n",
      " 7.79805335e-01 9.31785559e-01 9.38587593e-05 8.25035322e-01\n",
      " 7.63932881e-01 8.65069238e-01 8.12840603e-04 9.60006465e-01\n",
      " 9.41017121e-01 2.11012185e-01 8.81801337e-01 9.25534871e-01\n",
      " 7.25919714e-01 9.01735626e-01 9.29584332e-01 4.58588770e-06\n",
      " 8.90492759e-01 8.50395998e-01 7.61499660e-01 9.30641479e-01\n",
      " 8.66289864e-01 7.20902634e-01 8.84201121e-01 6.74939900e-01\n",
      " 8.34258042e-01 9.26435679e-01 4.23799801e-01 7.82204382e-01\n",
      " 2.93566882e-01 2.48013297e-05 2.67681552e-05 2.32189373e-04\n",
      " 7.80052461e-01 8.14662371e-01 2.76780340e-04 8.41635652e-01\n",
      " 5.42784335e-02 5.17431752e-01 9.61849154e-02 9.54437670e-01\n",
      " 8.71848335e-01 7.10634472e-01 8.42742194e-01 8.79169710e-01\n",
      " 8.70332004e-05 2.45421821e-03 8.89743434e-01 1.74962220e-03\n",
      " 7.21145413e-01 1.21816663e-05 7.29973213e-01 9.31815792e-01\n",
      " 8.82208796e-01 9.57172018e-01 4.85577442e-01 7.13964644e-03\n",
      " 7.02531459e-01 8.85821498e-01 8.47713907e-01 6.54298262e-06\n",
      " 7.83747659e-02 7.49787608e-01 6.48230574e-01 7.28383021e-01\n",
      " 9.15404840e-01 8.88735480e-01 8.88072401e-01 8.64449340e-01\n",
      " 3.51131697e-01 7.54502153e-04 7.63712443e-01 8.37768329e-01\n",
      " 2.10144196e-03 9.24017734e-01 9.30179665e-01 8.41504417e-01\n",
      " 8.60009779e-01 7.53926997e-01 9.54218955e-01 3.05957618e-05\n",
      " 8.92220920e-01 7.39677273e-01 1.89614902e-05 2.75540632e-04\n",
      " 7.59723321e-01 8.92375792e-01 7.30440888e-01 6.55046143e-05\n",
      " 6.94572699e-05 9.28670022e-01 3.79138091e-01 3.90529519e-01\n",
      " 7.55258957e-01 9.10581935e-01 2.66710882e-01 7.27852463e-05\n",
      " 3.02632972e-03 8.85748565e-01 1.02175252e-02 8.92779934e-01\n",
      " 8.43534462e-01 3.08404586e-04 8.53691638e-01 7.55004325e-01\n",
      " 8.33240856e-01 9.35530368e-01 6.76873073e-01 8.81250035e-01\n",
      " 3.76973071e-01 2.99471589e-05 7.30165946e-01 8.52165808e-01\n",
      " 1.83031540e-01 8.04776338e-05 9.30380952e-01 3.85833716e-01\n",
      " 9.60791961e-01 9.00212474e-01 3.48525430e-01 6.65086266e-02\n",
      " 8.15677558e-02 8.63205979e-01 2.05234843e-02 7.80882382e-01\n",
      " 6.87840513e-03 1.26364885e-03 1.96802193e-03 2.37848514e-02\n",
      " 2.59327621e-04 3.83306335e-01 7.77864295e-01 7.28620900e-01\n",
      " 5.31829263e-01 1.33861283e-03 3.37529162e-01 5.43929246e-04\n",
      " 5.05209389e-02 2.66110545e-07 7.38037599e-01 9.52546000e-01\n",
      " 4.97481324e-01 9.29924476e-01 8.45226018e-01 8.65335024e-01\n",
      " 5.54485166e-02 7.96273034e-01 9.25491538e-01 7.31750389e-01\n",
      " 6.84401691e-01 2.75255029e-02 8.44322012e-01 2.27589670e-05\n",
      " 6.17310345e-04 3.73851402e-01 8.89102180e-01 5.65687017e-04\n",
      " 7.37518658e-01 8.24029089e-01 1.10608022e-03 8.92393822e-04\n",
      " 7.39114450e-01 9.63978618e-03 8.39497835e-01 8.82624964e-01\n",
      " 9.02673652e-01 9.22137236e-01 6.17624432e-01 8.95206439e-01\n",
      " 3.58817054e-01 4.24584336e-02 4.03235591e-01 1.92146982e-04\n",
      " 8.89169309e-01 6.98329003e-01 7.79461427e-01 7.24278790e-01\n",
      " 6.38027965e-01 7.58152104e-01 7.15457284e-01 8.72075546e-01\n",
      " 9.27184349e-01 4.39427045e-04 1.06610083e-05 7.64593397e-01\n",
      " 9.29207726e-01 9.30908073e-01 6.62802061e-03 3.21726221e-01\n",
      " 8.86580161e-01 8.61319482e-01 8.35165611e-01 2.42987194e-01\n",
      " 8.40255073e-01 9.06155789e-01 8.31936107e-01 9.30750600e-01\n",
      " 7.30614158e-01 9.29444943e-01 8.42477120e-01 8.38201768e-01\n",
      " 8.24053200e-01 8.83152344e-01 4.10398301e-01 8.91134547e-01\n",
      " 9.24417998e-01 7.78825504e-01 9.31715285e-01 1.97644711e-01\n",
      " 7.65058103e-01 8.90324450e-01 3.28650001e-01 1.71951017e-04\n",
      " 8.60853458e-01 9.54209855e-01 8.39686076e-01 8.26981142e-01\n",
      " 7.24443564e-01 8.85035475e-01 7.36904650e-01 1.74246624e-01\n",
      " 8.31064932e-01 6.53528266e-01 2.06345483e-01 6.73527466e-02\n",
      " 8.72177760e-01 7.78782660e-04 8.25901202e-01 7.15291306e-01\n",
      " 3.28748462e-01 7.79031151e-01 7.19475585e-01 3.77421397e-01\n",
      " 8.54335493e-01 7.04358263e-01 7.79751352e-01 6.70611221e-01\n",
      " 7.71434323e-01 9.28076188e-01 8.84622626e-01 7.53067691e-01\n",
      " 8.84920547e-01 5.21766607e-05 8.87663798e-03 8.93618397e-01\n",
      " 3.31227326e-02 8.19530393e-01 8.13632047e-04 9.55799521e-01\n",
      " 7.51859326e-01 9.39141929e-01 4.07361506e-04 1.41961680e-03\n",
      " 6.56689286e-01 8.45350242e-01 9.21815881e-01 6.05476628e-02\n",
      " 9.16073969e-01 5.38494880e-03 7.72289398e-01 9.30345103e-01\n",
      " 3.07075142e-01 8.34238595e-01 9.24910608e-01 8.28411579e-01\n",
      " 1.56900059e-04 8.85748882e-01 9.89461764e-05 1.48004728e-05\n",
      " 8.75442233e-01 2.19544801e-03 2.74673555e-01 6.73832778e-01\n",
      " 7.67021611e-02 2.27950069e-04 7.59368887e-01 8.20910398e-01\n",
      " 7.16103409e-01 6.24892572e-01 8.50791375e-01 9.31048387e-01\n",
      " 7.29161246e-01 8.37306179e-01 5.81565051e-04 8.05514368e-01\n",
      " 7.97352852e-01 7.00729718e-02 4.06376100e-01 2.45538034e-07\n",
      " 7.44041280e-01 3.06536199e-01 8.42388891e-01 2.71851934e-01\n",
      " 7.68573624e-01 2.40500536e-01 8.65232632e-01 1.49746548e-03\n",
      " 1.57905373e-03 2.74436474e-01 7.43260549e-01 5.64942804e-01\n",
      " 3.64789569e-05 7.81606076e-01 8.92880814e-01 8.44573562e-01\n",
      " 9.53891220e-01 9.60667892e-01 1.09031544e-02 8.35590182e-01\n",
      " 8.59485067e-01 2.99741792e-02 7.12205128e-01 8.76946614e-01\n",
      " 6.12741213e-01 9.25586364e-01 3.73618774e-01 2.36028069e-05\n",
      " 1.25600148e-01 8.83976188e-01 8.64502184e-01 7.08836498e-01\n",
      " 7.85575406e-01 2.04257388e-04 7.12567108e-01 2.36189963e-02\n",
      " 1.40300209e-02 9.27833831e-01 1.74783239e-05 2.59854277e-05\n",
      " 1.92145281e-01 9.18039336e-01 1.58342766e-04 8.63430514e-01\n",
      " 7.18518290e-01 7.21349955e-01 8.38040154e-01 1.37562599e-03\n",
      " 7.25076700e-01 8.91869596e-01 7.37090694e-01 8.51743308e-01\n",
      " 5.86620035e-01 8.52178692e-01 8.65723271e-01 8.09865861e-01\n",
      " 8.55351910e-01 8.79326759e-01 9.04945248e-01 8.87131192e-01\n",
      " 3.03009121e-01 9.26352825e-01 4.12192510e-01 8.92582275e-01\n",
      " 1.24894297e-01 2.24686673e-03 7.83621524e-01 1.02118398e-03\n",
      " 7.24421345e-01 9.36000677e-01 8.11901979e-01 1.30745411e-01\n",
      " 1.31967357e-03 3.19466671e-02 9.41068384e-01 8.84801550e-01\n",
      " 9.06203920e-01 3.38883215e-01 7.26769262e-01 7.74545924e-01\n",
      " 9.02172697e-03 2.06596976e-03 9.58847308e-01 2.74519058e-02\n",
      " 8.60768148e-01 9.56875115e-01 7.44454252e-01 8.49090815e-01\n",
      " 6.46498444e-01 2.76125112e-02 6.84002734e-01 8.85771177e-01\n",
      " 1.89318841e-01 6.19326589e-02 4.55767893e-01 4.64376791e-01\n",
      " 3.32877299e-01 8.88729090e-01 8.88236561e-01 3.18528861e-01\n",
      " 3.85088107e-01 6.26811609e-01 9.60855650e-01 1.57358476e-01\n",
      " 3.24964723e-04 8.55575273e-01 8.85886483e-01 8.28035561e-01\n",
      " 7.85034145e-01 8.25121227e-01 5.46837750e-05 8.26671261e-01\n",
      " 2.92290227e-04 8.40509652e-01 5.29484528e-05 6.12297959e-01\n",
      " 7.11079197e-01 9.59940837e-01 9.24173823e-01 7.97236932e-01\n",
      " 8.02118498e-01 3.39975077e-05 7.48243310e-02 8.46156790e-01]\n",
      "Logistic : ROC AUC = 0.868\n"
     ]
    },
    {
     "data": {
      "image/png": "[encoded data removed]",
      "text/plain": [
       "<Figure size 432x288 with 1 Axes>"
      ]
     },
     "metadata": {
      "needs_background": "light"
     },
     "output_type": "display_data"
    }
   ],
   "source": [
    "#ROC and AUC curve\n",
    "from sklearn.metrics import roc_auc_score\n",
    "from sklearn.metrics import roc_curve\n",
    "clf_probs = reg.predict_proba(x_test)\n",
    "clf_probs = clf_probs[:,1]\n",
    "print(clf_probs)\n",
    "ras = roc_auc_score(y_test,clf_probs)\n",
    "print(\"Logistic : ROC AUC = %.3f\" %(ras))\n",
    "from sklearn.preprocessing import label_binarize\n",
    "y = label_binarize(y_test,classes = [0,2])\n",
    "n_classes = y.shape[1]\n",
    "fpr,tpr,_ = roc_curve(y,clf_probs)\n",
    "plt.figure()\n",
    "lw = 2\n",
    "plt.plot(fpr,tpr, color = \"orange\", lw = lw, label = \"ROC curve (area = %0.2f\" % ras)\n",
    "plt.plot([0,1],[0,1], color = \"blue\",lw = lw, linestyle = '--')\n",
    "plt.xlim(0.0, 1.0)\n",
    "plt.ylim(0.0, 1.05)\n",
    "plt.xlabel('False Positive Value')\n",
    "plt.ylabel('True Positive Value')\n",
    "plt.title('Receiver operating Characteristics')\n",
    "plt.legend(loc = \"lower right\")\n",
    "plt.show()"
   ]
  },
  {
   "cell_type": "code",
   "execution_count": null,
   "metadata": {},
   "outputs": [],
   "source": []
  }
 ],
 "metadata": {
  "kernelspec": {
   "display_name": "Python 3",
   "language": "python",
   "name": "python3"
  },
  "language_info": {
   "codemirror_mode": {
    "name": "ipython",
    "version": 3
   },
   "file_extension": ".py",
   "mimetype": "text/x-python",
   "name": "python",
   "nbconvert_exporter": "python",
   "pygments_lexer": "ipython3",
   "version": "3.7.6"
  }
 },
 "nbformat": 4,
 "nbformat_minor": 4
}
