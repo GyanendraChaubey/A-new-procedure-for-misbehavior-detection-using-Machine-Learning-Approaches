{
 "cells": [
  {
   "cell_type": "code",
   "execution_count": 1,
   "metadata": {},
   "outputs": [],
   "source": [
    "import pandas as pd\n",
    "import numpy as np"
   ]
  },
  {
   "cell_type": "code",
   "execution_count": 2,
   "metadata": {},
   "outputs": [],
   "source": [
    "df = pd.read_csv(r'D:/data_science/Research/1.csv')"
   ]
  },
  {
   "cell_type": "code",
   "execution_count": 3,
   "metadata": {},
   "outputs": [
    {
     "data": {
      "text/html": [
       "<div>\n",
       "<style scoped>\n",
       "    .dataframe tbody tr th:only-of-type {\n",
       "        vertical-align: middle;\n",
       "    }\n",
       "\n",
       "    .dataframe tbody tr th {\n",
       "        vertical-align: top;\n",
       "    }\n",
       "\n",
       "    .dataframe thead th {\n",
       "        text-align: right;\n",
       "    }\n",
       "</style>\n",
       "<table border=\"1\" class=\"dataframe\">\n",
       "  <thead>\n",
       "    <tr style=\"text-align: right;\">\n",
       "      <th></th>\n",
       "      <th>type</th>\n",
       "      <th>time</th>\n",
       "      <th>sender</th>\n",
       "      <th>attackerType</th>\n",
       "      <th>messageID</th>\n",
       "      <th>pos__001</th>\n",
       "      <th>pos__002</th>\n",
       "      <th>pos__003</th>\n",
       "      <th>pos_noise__001</th>\n",
       "      <th>pos_noise__002</th>\n",
       "      <th>pos_noise__003</th>\n",
       "      <th>spd__001</th>\n",
       "      <th>spd__002</th>\n",
       "      <th>spd__003</th>\n",
       "      <th>spd_noise__001</th>\n",
       "      <th>spd_noise__002</th>\n",
       "      <th>spd_noise__003</th>\n",
       "    </tr>\n",
       "  </thead>\n",
       "  <tbody>\n",
       "    <tr>\n",
       "      <th>0</th>\n",
       "      <td>4</td>\n",
       "      <td>10800.392785</td>\n",
       "      <td>13</td>\n",
       "      <td>0</td>\n",
       "      <td>38</td>\n",
       "      <td>3597.152086</td>\n",
       "      <td>5542.199221</td>\n",
       "      <td>1.895</td>\n",
       "      <td>0.0</td>\n",
       "      <td>0.0</td>\n",
       "      <td>0.0</td>\n",
       "      <td>-3.178366</td>\n",
       "      <td>38.798969</td>\n",
       "      <td>0.0</td>\n",
       "      <td>0.0</td>\n",
       "      <td>0.0</td>\n",
       "      <td>0.0</td>\n",
       "    </tr>\n",
       "    <tr>\n",
       "      <th>1</th>\n",
       "      <td>4</td>\n",
       "      <td>10800.437587</td>\n",
       "      <td>7</td>\n",
       "      <td>0</td>\n",
       "      <td>71</td>\n",
       "      <td>3609.398494</td>\n",
       "      <td>5446.803264</td>\n",
       "      <td>1.895</td>\n",
       "      <td>0.0</td>\n",
       "      <td>0.0</td>\n",
       "      <td>0.0</td>\n",
       "      <td>-3.534058</td>\n",
       "      <td>30.622234</td>\n",
       "      <td>0.0</td>\n",
       "      <td>0.0</td>\n",
       "      <td>0.0</td>\n",
       "      <td>0.0</td>\n",
       "    </tr>\n",
       "  </tbody>\n",
       "</table>\n",
       "</div>"
      ],
      "text/plain": [
       "   type          time  sender  attackerType  messageID     pos__001  \\\n",
       "0     4  10800.392785      13             0         38  3597.152086   \n",
       "1     4  10800.437587       7             0         71  3609.398494   \n",
       "\n",
       "      pos__002  pos__003  pos_noise__001  pos_noise__002  pos_noise__003  \\\n",
       "0  5542.199221     1.895             0.0             0.0             0.0   \n",
       "1  5446.803264     1.895             0.0             0.0             0.0   \n",
       "\n",
       "   spd__001   spd__002  spd__003  spd_noise__001  spd_noise__002  \\\n",
       "0 -3.178366  38.798969       0.0             0.0             0.0   \n",
       "1 -3.534058  30.622234       0.0             0.0             0.0   \n",
       "\n",
       "   spd_noise__003  \n",
       "0             0.0  \n",
       "1             0.0  "
      ]
     },
     "execution_count": 3,
     "metadata": {},
     "output_type": "execute_result"
    }
   ],
   "source": [
    "df.head(2)"
   ]
  },
  {
   "cell_type": "code",
   "execution_count": 4,
   "metadata": {},
   "outputs": [],
   "source": [
    "df.drop(['type','pos_noise__001','pos_noise__002','pos_noise__003','spd_noise__001','spd_noise__002','spd_noise__003','spd__003'],axis = 1, inplace = True)"
   ]
  },
  {
   "cell_type": "code",
   "execution_count": 5,
   "metadata": {},
   "outputs": [
    {
     "data": {
      "text/html": [
       "<div>\n",
       "<style scoped>\n",
       "    .dataframe tbody tr th:only-of-type {\n",
       "        vertical-align: middle;\n",
       "    }\n",
       "\n",
       "    .dataframe tbody tr th {\n",
       "        vertical-align: top;\n",
       "    }\n",
       "\n",
       "    .dataframe thead th {\n",
       "        text-align: right;\n",
       "    }\n",
       "</style>\n",
       "<table border=\"1\" class=\"dataframe\">\n",
       "  <thead>\n",
       "    <tr style=\"text-align: right;\">\n",
       "      <th></th>\n",
       "      <th>time</th>\n",
       "      <th>sender</th>\n",
       "      <th>attackerType</th>\n",
       "      <th>messageID</th>\n",
       "      <th>pos__001</th>\n",
       "      <th>pos__002</th>\n",
       "      <th>pos__003</th>\n",
       "      <th>spd__001</th>\n",
       "      <th>spd__002</th>\n",
       "    </tr>\n",
       "  </thead>\n",
       "  <tbody>\n",
       "    <tr>\n",
       "      <th>0</th>\n",
       "      <td>10800.392785</td>\n",
       "      <td>13</td>\n",
       "      <td>0</td>\n",
       "      <td>38</td>\n",
       "      <td>3597.152086</td>\n",
       "      <td>5542.199221</td>\n",
       "      <td>1.895</td>\n",
       "      <td>-3.178366</td>\n",
       "      <td>38.798969</td>\n",
       "    </tr>\n",
       "    <tr>\n",
       "      <th>1</th>\n",
       "      <td>10800.437587</td>\n",
       "      <td>7</td>\n",
       "      <td>0</td>\n",
       "      <td>71</td>\n",
       "      <td>3609.398494</td>\n",
       "      <td>5446.803264</td>\n",
       "      <td>1.895</td>\n",
       "      <td>-3.534058</td>\n",
       "      <td>30.622234</td>\n",
       "    </tr>\n",
       "  </tbody>\n",
       "</table>\n",
       "</div>"
      ],
      "text/plain": [
       "           time  sender  attackerType  messageID     pos__001     pos__002  \\\n",
       "0  10800.392785      13             0         38  3597.152086  5542.199221   \n",
       "1  10800.437587       7             0         71  3609.398494  5446.803264   \n",
       "\n",
       "   pos__003  spd__001   spd__002  \n",
       "0     1.895 -3.178366  38.798969  \n",
       "1     1.895 -3.534058  30.622234  "
      ]
     },
     "execution_count": 5,
     "metadata": {},
     "output_type": "execute_result"
    }
   ],
   "source": [
    "df.head(2)"
   ]
  },
  {
   "cell_type": "code",
   "execution_count": 6,
   "metadata": {},
   "outputs": [
    {
     "data": {
      "text/plain": [
       "0    931\n",
       "1     28\n",
       "Name: attackerType, dtype: int64"
      ]
     },
     "execution_count": 6,
     "metadata": {},
     "output_type": "execute_result"
    }
   ],
   "source": [
    "df['attackerType'].value_counts()"
   ]
  },
  {
   "cell_type": "code",
   "execution_count": 7,
   "metadata": {},
   "outputs": [],
   "source": [
    "x = df[['time','sender','messageID','pos__001','pos__002','pos__003','spd__001','spd__002']]\n",
    "y = df.iloc[:,2:3].values"
   ]
  },
  {
   "cell_type": "code",
   "execution_count": 8,
   "metadata": {},
   "outputs": [
    {
     "name": "stderr",
     "output_type": "stream",
     "text": [
      "Using TensorFlow backend.\n",
      "C:\\Users\\Jayesh\\anaconda3\\lib\\site-packages\\tensorflow\\python\\framework\\dtypes.py:526: FutureWarning: Passing (type, 1) or '1type' as a synonym of type is deprecated; in a future version of numpy, it will be understood as (type, (1,)) / '(1,)type'.\n",
      "  _np_qint8 = np.dtype([(\"qint8\", np.int8, 1)])\n",
      "C:\\Users\\Jayesh\\anaconda3\\lib\\site-packages\\tensorflow\\python\\framework\\dtypes.py:527: FutureWarning: Passing (type, 1) or '1type' as a synonym of type is deprecated; in a future version of numpy, it will be understood as (type, (1,)) / '(1,)type'.\n",
      "  _np_quint8 = np.dtype([(\"quint8\", np.uint8, 1)])\n",
      "C:\\Users\\Jayesh\\anaconda3\\lib\\site-packages\\tensorflow\\python\\framework\\dtypes.py:528: FutureWarning: Passing (type, 1) or '1type' as a synonym of type is deprecated; in a future version of numpy, it will be understood as (type, (1,)) / '(1,)type'.\n",
      "  _np_qint16 = np.dtype([(\"qint16\", np.int16, 1)])\n",
      "C:\\Users\\Jayesh\\anaconda3\\lib\\site-packages\\tensorflow\\python\\framework\\dtypes.py:529: FutureWarning: Passing (type, 1) or '1type' as a synonym of type is deprecated; in a future version of numpy, it will be understood as (type, (1,)) / '(1,)type'.\n",
      "  _np_quint16 = np.dtype([(\"quint16\", np.uint16, 1)])\n",
      "C:\\Users\\Jayesh\\anaconda3\\lib\\site-packages\\tensorflow\\python\\framework\\dtypes.py:530: FutureWarning: Passing (type, 1) or '1type' as a synonym of type is deprecated; in a future version of numpy, it will be understood as (type, (1,)) / '(1,)type'.\n",
      "  _np_qint32 = np.dtype([(\"qint32\", np.int32, 1)])\n",
      "C:\\Users\\Jayesh\\anaconda3\\lib\\site-packages\\tensorflow\\python\\framework\\dtypes.py:535: FutureWarning: Passing (type, 1) or '1type' as a synonym of type is deprecated; in a future version of numpy, it will be understood as (type, (1,)) / '(1,)type'.\n",
      "  np_resource = np.dtype([(\"resource\", np.ubyte, 1)])\n"
     ]
    }
   ],
   "source": [
    "from imblearn.combine import SMOTETomek\n",
    "smk = SMOTETomek(random_state = 0)\n",
    "x, y = smk.fit_sample(x,y)"
   ]
  },
  {
   "cell_type": "code",
   "execution_count": null,
   "metadata": {},
   "outputs": [],
   "source": [
    "#Spliting dataset into Train and Test set \n",
    "from sklearn.model_selection import train_test_split\n",
    "x_train,x_test,y_train,y_test = train_test_split(x,y,test_size = 0.3, random_state = 0)"
   ]
  },
  {
   "cell_type": "code",
   "execution_count": null,
   "metadata": {},
   "outputs": [],
   "source": [
    "#Feature Scaling\n",
    "from sklearn.preprocessing import StandardScaler\n",
    "sc = StandardScaler()\n",
    "x_train = sc.fit_transform(x_train)\n",
    "x_test = sc.transform(x_test)"
   ]
  },
  {
   "cell_type": "code",
   "execution_count": null,
   "metadata": {},
   "outputs": [],
   "source": [
    "#Building Model\n",
    "from sklearn.tree import DecisionTreeClassifier\n",
    "reg = DecisionTreeClassifier(criterion = 'entropy',random_state = 0)\n",
    "reg.fit(x_train,y_train)\n",
    "y_pred = reg.predict(x_test)"
   ]
  },
  {
   "cell_type": "code",
   "execution_count": null,
   "metadata": {},
   "outputs": [],
   "source": [
    "#checking Accuracy\n",
    "from sklearn.metrics import accuracy_score\n",
    "accuracy = accuracy_score(y_test, y_pred)\n",
    "print(\"Accuracy: %.2f%%\" % (accuracy * 100.0))"
   ]
  },
  {
   "cell_type": "code",
   "execution_count": null,
   "metadata": {},
   "outputs": [],
   "source": [
    "#confusion matrix\n",
    "from sklearn.metrics import confusion_matrix\n",
    "con = confusion_matrix(y_test,y_pred)\n",
    "print(con)\n",
    "import seaborn as sns\n",
    "import matplotlib.pyplot as plt\n",
    "axes = sns.heatmap(con, square=True,annot=True,fmt='d',cbar = True, cmap = plt.cm.GnBu)\n",
    "ax = plt.axes()\n",
    "ax.set_title('Decision Tree')"
   ]
  },
  {
   "cell_type": "code",
   "execution_count": null,
   "metadata": {},
   "outputs": [],
   "source": [
    "from sklearn.metrics import classification_report\n",
    "print('Decision Tree')\n",
    "print(classification_report(y_test, y_pred))\n"
   ]
  },
  {
   "cell_type": "code",
   "execution_count": null,
   "metadata": {},
   "outputs": [],
   "source": [
    "#ROC and AUC curve\n",
    "from sklearn.metrics import roc_auc_score\n",
    "from sklearn.metrics import roc_curve\n",
    "clf_probs = reg.predict_proba(x_test)\n",
    "clf_probs = clf_probs[:,1]\n",
    "print(clf_probs)\n",
    "ras = roc_auc_score(y_test,clf_probs)\n",
    "print(\"Logistic : ROC AUC = %.3f\" %(ras))\n",
    "from sklearn.preprocessing import label_binarize\n",
    "y = label_binarize(y_test,classes = [0,4])\n",
    "n_classes = y.shape[1]\n",
    "fpr,tpr,_ = roc_curve(y,clf_probs)\n",
    "plt.figure()\n",
    "lw = 2\n",
    "plt.plot(fpr,tpr, color = \"orange\", lw = lw, label = \"ROC curve (area = %0.2f\" % ras)\n",
    "plt.plot([0,1],[0,1], color = \"blue\",lw = lw, linestyle = '--')\n",
    "plt.xlim(0.0, 1.0)\n",
    "plt.ylim(0.0, 1.05)\n",
    "plt.xlabel('False Positive Value')\n",
    "plt.ylabel('True Positive Value')\n",
    "plt.title('Receiver operating Characteristics')\n",
    "plt.legend(loc = \"lower right\")\n",
    "plt.show()"
   ]
  }
 ],
 "metadata": {
  "kernelspec": {
   "display_name": "Python 3",
   "language": "python",
   "name": "python3"
  },
  "language_info": {
   "codemirror_mode": {
    "name": "ipython",
    "version": 3
   },
   "file_extension": ".py",
   "mimetype": "text/x-python",
   "name": "python",
   "nbconvert_exporter": "python",
   "pygments_lexer": "ipython3",
   "version": "3.7.6"
  }
 },
 "nbformat": 4,
 "nbformat_minor": 4
}
