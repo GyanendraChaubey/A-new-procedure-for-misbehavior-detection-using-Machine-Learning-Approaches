{
 "cells": [
  {
   "cell_type": "code",
   "execution_count": 29,
   "metadata": {},
   "outputs": [],
   "source": [
    "import pandas as pd\n",
    "import numpy as np\n"
   ]
  },
  {
   "cell_type": "code",
   "execution_count": 30,
   "metadata": {},
   "outputs": [
    {
     "data": {
      "text/html": [
       "<div>\n",
       "<style scoped>\n",
       "    .dataframe tbody tr th:only-of-type {\n",
       "        vertical-align: middle;\n",
       "    }\n",
       "\n",
       "    .dataframe tbody tr th {\n",
       "        vertical-align: top;\n",
       "    }\n",
       "\n",
       "    .dataframe thead th {\n",
       "        text-align: right;\n",
       "    }\n",
       "</style>\n",
       "<table border=\"1\" class=\"dataframe\">\n",
       "  <thead>\n",
       "    <tr style=\"text-align: right;\">\n",
       "      <th></th>\n",
       "      <th>type</th>\n",
       "      <th>time</th>\n",
       "      <th>sender</th>\n",
       "      <th>attackerType</th>\n",
       "      <th>messageID</th>\n",
       "      <th>pos__001</th>\n",
       "      <th>pos__002</th>\n",
       "      <th>pos__003</th>\n",
       "      <th>pos_noise__001</th>\n",
       "      <th>pos_noise__002</th>\n",
       "      <th>pos_noise__003</th>\n",
       "      <th>spd__001</th>\n",
       "      <th>spd__002</th>\n",
       "      <th>spd__003</th>\n",
       "      <th>spd_noise__001</th>\n",
       "      <th>spd_noise__002</th>\n",
       "      <th>spd_noise__003</th>\n",
       "    </tr>\n",
       "  </thead>\n",
       "  <tbody>\n",
       "    <tr>\n",
       "      <th>0</th>\n",
       "      <td>4</td>\n",
       "      <td>10800.065710</td>\n",
       "      <td>25</td>\n",
       "      <td>0</td>\n",
       "      <td>38</td>\n",
       "      <td>3594.503928</td>\n",
       "      <td>5822.136692</td>\n",
       "      <td>1.895</td>\n",
       "      <td>0.0</td>\n",
       "      <td>0.0</td>\n",
       "      <td>0.0</td>\n",
       "      <td>-0.020621</td>\n",
       "      <td>-35.392890</td>\n",
       "      <td>0.0</td>\n",
       "      <td>0.0</td>\n",
       "      <td>0.0</td>\n",
       "      <td>0.0</td>\n",
       "    </tr>\n",
       "    <tr>\n",
       "      <th>1</th>\n",
       "      <td>4</td>\n",
       "      <td>10800.241039</td>\n",
       "      <td>37</td>\n",
       "      <td>0</td>\n",
       "      <td>63</td>\n",
       "      <td>3588.387672</td>\n",
       "      <td>6003.151424</td>\n",
       "      <td>1.895</td>\n",
       "      <td>0.0</td>\n",
       "      <td>0.0</td>\n",
       "      <td>0.0</td>\n",
       "      <td>2.733597</td>\n",
       "      <td>36.816215</td>\n",
       "      <td>0.0</td>\n",
       "      <td>0.0</td>\n",
       "      <td>0.0</td>\n",
       "      <td>0.0</td>\n",
       "    </tr>\n",
       "    <tr>\n",
       "      <th>2</th>\n",
       "      <td>4</td>\n",
       "      <td>10800.361496</td>\n",
       "      <td>13</td>\n",
       "      <td>2</td>\n",
       "      <td>88</td>\n",
       "      <td>3584.615626</td>\n",
       "      <td>5891.170606</td>\n",
       "      <td>1.895</td>\n",
       "      <td>0.0</td>\n",
       "      <td>0.0</td>\n",
       "      <td>0.0</td>\n",
       "      <td>1.817582</td>\n",
       "      <td>42.584663</td>\n",
       "      <td>0.0</td>\n",
       "      <td>0.0</td>\n",
       "      <td>0.0</td>\n",
       "      <td>0.0</td>\n",
       "    </tr>\n",
       "    <tr>\n",
       "      <th>3</th>\n",
       "      <td>4</td>\n",
       "      <td>10800.502533</td>\n",
       "      <td>43</td>\n",
       "      <td>0</td>\n",
       "      <td>109</td>\n",
       "      <td>3822.766368</td>\n",
       "      <td>5266.901172</td>\n",
       "      <td>1.895</td>\n",
       "      <td>0.0</td>\n",
       "      <td>0.0</td>\n",
       "      <td>0.0</td>\n",
       "      <td>1.118316</td>\n",
       "      <td>-0.847054</td>\n",
       "      <td>0.0</td>\n",
       "      <td>0.0</td>\n",
       "      <td>0.0</td>\n",
       "      <td>0.0</td>\n",
       "    </tr>\n",
       "    <tr>\n",
       "      <th>4</th>\n",
       "      <td>4</td>\n",
       "      <td>10800.521696</td>\n",
       "      <td>31</td>\n",
       "      <td>0</td>\n",
       "      <td>130</td>\n",
       "      <td>3820.685635</td>\n",
       "      <td>5264.333061</td>\n",
       "      <td>1.895</td>\n",
       "      <td>0.0</td>\n",
       "      <td>0.0</td>\n",
       "      <td>0.0</td>\n",
       "      <td>0.885788</td>\n",
       "      <td>-0.529247</td>\n",
       "      <td>0.0</td>\n",
       "      <td>0.0</td>\n",
       "      <td>0.0</td>\n",
       "      <td>0.0</td>\n",
       "    </tr>\n",
       "  </tbody>\n",
       "</table>\n",
       "</div>"
      ],
      "text/plain": [
       "   type          time  sender  attackerType  messageID     pos__001  \\\n",
       "0     4  10800.065710      25             0         38  3594.503928   \n",
       "1     4  10800.241039      37             0         63  3588.387672   \n",
       "2     4  10800.361496      13             2         88  3584.615626   \n",
       "3     4  10800.502533      43             0        109  3822.766368   \n",
       "4     4  10800.521696      31             0        130  3820.685635   \n",
       "\n",
       "      pos__002  pos__003  pos_noise__001  pos_noise__002  pos_noise__003  \\\n",
       "0  5822.136692     1.895             0.0             0.0             0.0   \n",
       "1  6003.151424     1.895             0.0             0.0             0.0   \n",
       "2  5891.170606     1.895             0.0             0.0             0.0   \n",
       "3  5266.901172     1.895             0.0             0.0             0.0   \n",
       "4  5264.333061     1.895             0.0             0.0             0.0   \n",
       "\n",
       "   spd__001   spd__002  spd__003  spd_noise__001  spd_noise__002  \\\n",
       "0 -0.020621 -35.392890       0.0             0.0             0.0   \n",
       "1  2.733597  36.816215       0.0             0.0             0.0   \n",
       "2  1.817582  42.584663       0.0             0.0             0.0   \n",
       "3  1.118316  -0.847054       0.0             0.0             0.0   \n",
       "4  0.885788  -0.529247       0.0             0.0             0.0   \n",
       "\n",
       "   spd_noise__003  \n",
       "0             0.0  \n",
       "1             0.0  \n",
       "2             0.0  \n",
       "3             0.0  \n",
       "4             0.0  "
      ]
     },
     "execution_count": 30,
     "metadata": {},
     "output_type": "execute_result"
    }
   ],
   "source": [
    "df = pd.read_csv(r'D:/data_science/Research/GroundTruthJSONlog_2.csv')\n",
    "df.head()"
   ]
  },
  {
   "cell_type": "code",
   "execution_count": 31,
   "metadata": {},
   "outputs": [],
   "source": [
    "df.drop(['type','pos_noise__001','pos_noise__002','pos_noise__003','spd__003','spd_noise__001','spd_noise__002','spd_noise__003'], axis = 1, inplace = True)"
   ]
  },
  {
   "cell_type": "code",
   "execution_count": 32,
   "metadata": {},
   "outputs": [
    {
     "data": {
      "text/html": [
       "<div>\n",
       "<style scoped>\n",
       "    .dataframe tbody tr th:only-of-type {\n",
       "        vertical-align: middle;\n",
       "    }\n",
       "\n",
       "    .dataframe tbody tr th {\n",
       "        vertical-align: top;\n",
       "    }\n",
       "\n",
       "    .dataframe thead th {\n",
       "        text-align: right;\n",
       "    }\n",
       "</style>\n",
       "<table border=\"1\" class=\"dataframe\">\n",
       "  <thead>\n",
       "    <tr style=\"text-align: right;\">\n",
       "      <th></th>\n",
       "      <th>time</th>\n",
       "      <th>sender</th>\n",
       "      <th>attackerType</th>\n",
       "      <th>messageID</th>\n",
       "      <th>pos__001</th>\n",
       "      <th>pos__002</th>\n",
       "      <th>pos__003</th>\n",
       "      <th>spd__001</th>\n",
       "      <th>spd__002</th>\n",
       "    </tr>\n",
       "  </thead>\n",
       "  <tbody>\n",
       "    <tr>\n",
       "      <th>0</th>\n",
       "      <td>10800.065710</td>\n",
       "      <td>25</td>\n",
       "      <td>0</td>\n",
       "      <td>38</td>\n",
       "      <td>3594.503928</td>\n",
       "      <td>5822.136692</td>\n",
       "      <td>1.895</td>\n",
       "      <td>-0.020621</td>\n",
       "      <td>-35.392890</td>\n",
       "    </tr>\n",
       "    <tr>\n",
       "      <th>1</th>\n",
       "      <td>10800.241039</td>\n",
       "      <td>37</td>\n",
       "      <td>0</td>\n",
       "      <td>63</td>\n",
       "      <td>3588.387672</td>\n",
       "      <td>6003.151424</td>\n",
       "      <td>1.895</td>\n",
       "      <td>2.733597</td>\n",
       "      <td>36.816215</td>\n",
       "    </tr>\n",
       "  </tbody>\n",
       "</table>\n",
       "</div>"
      ],
      "text/plain": [
       "           time  sender  attackerType  messageID     pos__001     pos__002  \\\n",
       "0  10800.065710      25             0         38  3594.503928  5822.136692   \n",
       "1  10800.241039      37             0         63  3588.387672  6003.151424   \n",
       "\n",
       "   pos__003  spd__001   spd__002  \n",
       "0     1.895 -0.020621 -35.392890  \n",
       "1     1.895  2.733597  36.816215  "
      ]
     },
     "execution_count": 32,
     "metadata": {},
     "output_type": "execute_result"
    }
   ],
   "source": [
    "df.head(2)"
   ]
  },
  {
   "cell_type": "code",
   "execution_count": 33,
   "metadata": {},
   "outputs": [],
   "source": [
    "x = df[['time','sender','messageID','pos__001','pos__002','pos__003','spd__001','spd__002']]\n",
    "y = df.iloc[:,2:3].values"
   ]
  },
  {
   "cell_type": "code",
   "execution_count": 34,
   "metadata": {},
   "outputs": [],
   "source": [
    "from imblearn.combine import SMOTETomek\n",
    "smk = SMOTETomek(random_state = 0)\n",
    "x, y = smk.fit_sample(x,y)"
   ]
  },
  {
   "cell_type": "code",
   "execution_count": 35,
   "metadata": {},
   "outputs": [],
   "source": [
    "#Spliting dataset into Train and Test set \n",
    "from sklearn.model_selection import train_test_split\n",
    "x_train,x_test,y_train,y_test = train_test_split(x,y,test_size = 0.3, random_state = 0)"
   ]
  },
  {
   "cell_type": "code",
   "execution_count": 36,
   "metadata": {},
   "outputs": [],
   "source": [
    "#Feature Scaling\n",
    "from sklearn.preprocessing import StandardScaler\n",
    "sc = StandardScaler()\n",
    "x_train = sc.fit_transform(x_train)\n",
    "x_test = sc.transform(x_test)"
   ]
  },
  {
   "cell_type": "code",
   "execution_count": 37,
   "metadata": {},
   "outputs": [],
   "source": [
    "#Building Model\n",
    "from sklearn.linear_model import LogisticRegression\n",
    "reg = LogisticRegression(random_state = 0)\n",
    "reg.fit(x_train,y_train)\n",
    "y_pred = reg.predict(x_test)"
   ]
  },
  {
   "cell_type": "code",
   "execution_count": 38,
   "metadata": {},
   "outputs": [
    {
     "name": "stdout",
     "output_type": "stream",
     "text": [
      "Accuracy: 76.70%\n"
     ]
    }
   ],
   "source": [
    "\n",
    "#checking Accuracy\n",
    "from sklearn.metrics import accuracy_score\n",
    "accuracy = accuracy_score(y_test, y_pred)\n",
    "print(\"Accuracy: %.2f%%\" % (accuracy * 100.0))"
   ]
  },
  {
   "cell_type": "code",
   "execution_count": 39,
   "metadata": {},
   "outputs": [
    {
     "name": "stdout",
     "output_type": "stream",
     "text": [
      "[[171  89]\n",
      " [ 34 234]]\n"
     ]
    },
    {
     "name": "stderr",
     "output_type": "stream",
     "text": [
      "C:\\Users\\Jayesh\\anaconda3\\lib\\site-packages\\ipykernel_launcher.py:8: MatplotlibDeprecationWarning: Adding an axes using the same arguments as a previous axes currently reuses the earlier instance.  In a future version, a new instance will always be created and returned.  Meanwhile, this warning can be suppressed, and the future behavior ensured, by passing a unique label to each axes instance.\n",
      "  \n"
     ]
    },
    {
     "data": {
      "text/plain": [
       "Text(0.5, 1, 'Logistic Regression')"
      ]
     },
     "execution_count": 39,
     "metadata": {},
     "output_type": "execute_result"
    },
    {
     "data": {
      "image/png": "[encoded data removed]",
      "text/plain": [
       "<Figure size 432x288 with 2 Axes>"
      ]
     },
     "metadata": {
      "needs_background": "light"
     },
     "output_type": "display_data"
    }
   ],
   "source": [
    "#confusion matrix\n",
    "from sklearn.metrics import confusion_matrix\n",
    "con = confusion_matrix(y_test,y_pred)\n",
    "print(con)\n",
    "import seaborn as sns\n",
    "import matplotlib.pyplot as plt\n",
    "axes = sns.heatmap(con, square=True,annot=True,fmt='d',cbar = True, cmap = plt.cm.GnBu)\n",
    "ax = plt.axes()\n",
    "ax.set_title('Logistic Regression')"
   ]
  },
  {
   "cell_type": "code",
   "execution_count": 40,
   "metadata": {},
   "outputs": [
    {
     "name": "stdout",
     "output_type": "stream",
     "text": [
      "Logistic Regression\n",
      "              precision    recall  f1-score   support\n",
      "\n",
      "           0       0.83      0.66      0.74       260\n",
      "           2       0.72      0.87      0.79       268\n",
      "\n",
      "    accuracy                           0.77       528\n",
      "   macro avg       0.78      0.77      0.76       528\n",
      "weighted avg       0.78      0.77      0.76       528\n",
      "\n"
     ]
    }
   ],
   "source": [
    "from sklearn.metrics import classification_report\n",
    "print('Logistic Regression')\n",
    "print(classification_report(y_test, y_pred))\n"
   ]
  },
  {
   "cell_type": "code",
   "execution_count": 41,
   "metadata": {},
   "outputs": [
    {
     "name": "stdout",
     "output_type": "stream",
     "text": [
      "[0.56609081 0.46409704 0.54224138 0.62139712 0.6680134  0.93153016\n",
      " 0.79012355 0.92980629 0.78570509 0.74700993 0.48079664 0.20654348\n",
      " 0.72343317 0.03579996 0.19764135 0.53544428 0.67180262 0.91363225\n",
      " 0.4669571  0.17465353 0.68164398 0.20206275 0.0664373  0.55411985\n",
      " 0.54966137 0.54859899 0.77651354 0.03787737 0.04898896 0.20986145\n",
      " 0.51549602 0.82587819 0.24997922 0.62649548 0.67618297 0.8471688\n",
      " 0.71226914 0.1488792  0.53074574 0.33443747 0.55248753 0.43685263\n",
      " 0.77238333 0.67370463 0.5555196  0.81740382 0.1658031  0.45447301\n",
      " 0.69758129 0.70526125 0.48061891 0.21383069 0.6989572  0.74084216\n",
      " 0.17261971 0.86398708 0.16181758 0.52604597 0.7591823  0.81741699\n",
      " 0.40878332 0.61681452 0.53892769 0.01849958 0.51453393 0.35046634\n",
      " 0.23710798 0.10637056 0.67719625 0.0457131  0.58503107 0.14524842\n",
      " 0.59705207 0.53351973 0.49569739 0.08927118 0.84155213 0.17191427\n",
      " 0.71473828 0.53620544 0.64612765 0.04593891 0.1909413  0.74983238\n",
      " 0.18784672 0.55374328 0.55123968 0.50764888 0.56231054 0.53927214\n",
      " 0.91806171 0.149411   0.81197547 0.22854358 0.55249604 0.12145058\n",
      " 0.67435394 0.09254317 0.16937462 0.78497398 0.55634026 0.68925757\n",
      " 0.81806965 0.22270649 0.55596154 0.3509268  0.30578727 0.713906\n",
      " 0.08461814 0.53476227 0.58569431 0.01935851 0.56362299 0.50383789\n",
      " 0.24008517 0.5175169  0.7589777  0.55307627 0.1322299  0.85077268\n",
      " 0.54067753 0.46263181 0.1366138  0.89272416 0.67400464 0.4819835\n",
      " 0.6037128  0.6010751  0.53063685 0.65127144 0.57202178 0.31192547\n",
      " 0.6661206  0.67581548 0.6314753  0.56710955 0.86957933 0.50444915\n",
      " 0.80707631 0.6830608  0.85392297 0.58696786 0.34902349 0.48034202\n",
      " 0.40115057 0.09661431 0.0206634  0.09293392 0.84050918 0.34215357\n",
      " 0.02661642 0.66520345 0.20499202 0.48743481 0.24844634 0.9269548\n",
      " 0.74998676 0.57615436 0.67226876 0.70516563 0.07542711 0.16655195\n",
      " 0.75964214 0.52401075 0.60753769 0.07329647 0.52008505 0.55312291\n",
      " 0.57874686 0.78931346 0.58601966 0.16841854 0.62453996 0.77795003\n",
      " 0.85700739 0.28656606 0.24430124 0.52031793 0.67443715 0.51582818\n",
      " 0.77286605 0.66751374 0.5529483  0.67674462 0.51666785 0.08881671\n",
      " 0.62077861 0.66736772 0.15474089 0.59599228 0.57724814 0.67668051\n",
      " 0.71868434 0.834649   0.92771629 0.02565008 0.81796916 0.50746768\n",
      " 0.56934902 0.03384836 0.52442376 0.81796218 0.50912349 0.03103604\n",
      " 0.10872453 0.59300604 0.74398668 0.29888568 0.7837972  0.54334742\n",
      " 0.43141556 0.03662602 0.15985189 0.83265526 0.22691856 0.7646673\n",
      " 0.67966852 0.03457982 0.70227715 0.47207229 0.43387122 0.66910047\n",
      " 0.66183995 0.79007843 0.7400609  0.02387732 0.49988844 0.67589837\n",
      " 0.49153741 0.04256862 0.58109692 0.29918819 0.87445774 0.86396067\n",
      " 0.3102413  0.21130861 0.21950045 0.81860052 0.19953805 0.60994109\n",
      " 0.17290953 0.46106517 0.19374568 0.18079861 0.22368274 0.75312673\n",
      " 0.50197779 0.5081817  0.39367546 0.47176219 0.5205997  0.03785068\n",
      " 0.19926738 0.06530142 0.62570723 0.93274949 0.3933412  0.58101321\n",
      " 0.40344767 0.67676703 0.21348508 0.55773    0.60161875 0.52539158\n",
      " 0.53461498 0.16180247 0.39761071 0.09247898 0.41705579 0.7458783\n",
      " 0.76417176 0.4483529  0.57288649 0.35780442 0.12242175 0.03761324\n",
      " 0.68102621 0.17281298 0.66985729 0.88713271 0.64951904 0.84982174\n",
      " 0.56986494 0.66195153 0.33388037 0.2002798  0.49207449 0.08593022\n",
      " 0.80163683 0.79256778 0.54172789 0.50930641 0.20740946 0.83476271\n",
      " 0.49470277 0.6755836  0.58449396 0.40342853 0.53358833 0.32184591\n",
      " 0.58913688 0.56647695 0.18411843 0.72530326 0.55263401 0.86709187\n",
      " 0.66482498 0.51946428 0.66999072 0.64224374 0.85341163 0.56515119\n",
      " 0.50227219 0.68555642 0.67851211 0.67059088 0.75034186 0.69103005\n",
      " 0.76582227 0.69808489 0.86141336 0.55602713 0.5531274  0.45922001\n",
      " 0.32295549 0.81854236 0.34388393 0.02309205 0.59066245 0.9277442\n",
      " 0.442666   0.41258551 0.51115466 0.56276329 0.61388674 0.49168877\n",
      " 0.74875652 0.45515825 0.39573397 0.21972932 0.47259425 0.36300585\n",
      " 0.61148138 0.57282095 0.28728457 0.56700321 0.57320538 0.50746863\n",
      " 0.70382879 0.66275548 0.52537936 0.77918253 0.83919755 0.77444521\n",
      " 0.57903183 0.51585059 0.7809003  0.02115043 0.17339699 0.81143572\n",
      " 0.19613864 0.56721717 0.35738339 0.92188721 0.83121404 0.66335024\n",
      " 0.03570452 0.48100351 0.6943774  0.68355263 0.60123147 0.23492173\n",
      " 0.78829306 0.151163   0.8412493  0.57478676 0.39681305 0.85580181\n",
      " 0.60257464 0.57947869 0.07993086 0.83265384 0.05298415 0.07740213\n",
      " 0.67463236 0.15387668 0.30556512 0.66569247 0.23965145 0.23678672\n",
      " 0.57523034 0.41178192 0.49078843 0.71548188 0.89358688 0.5596983\n",
      " 0.82732402 0.66742494 0.07419372 0.84280031 0.82164076 0.23164609\n",
      " 0.75989147 0.06800511 0.83193186 0.38611344 0.67192247 0.42741107\n",
      " 0.53285234 0.47303999 0.87033648 0.49240597 0.50315127 0.42285506\n",
      " 0.83013082 0.53946958 0.03043363 0.43536358 0.81792823 0.68242307\n",
      " 0.92867178 0.84747441 0.15019301 0.66432864 0.67636275 0.17740786\n",
      " 0.57250933 0.77139662 0.57557836 0.60956837 0.73282544 0.01873338\n",
      " 0.43806922 0.78205712 0.77615803 0.76727565 0.84588489 0.03122829\n",
      " 0.49281586 0.18781863 0.25296808 0.59693631 0.0820483  0.01994745\n",
      " 0.48974948 0.61265775 0.02914099 0.5894661  0.58155438 0.68301148\n",
      " 0.66799718 0.12894182 0.49402371 0.8100426  0.5935762  0.41377799\n",
      " 0.55506254 0.52541316 0.45397784 0.82797267 0.61134896 0.70333002\n",
      " 0.6992002  0.77720517 0.40899579 0.59957191 0.76864035 0.70454758\n",
      " 0.32813111 0.14899643 0.62252491 0.03792885 0.54008872 0.65036309\n",
      " 0.55606428 0.29851286 0.11647539 0.15681059 0.8382052  0.78108971\n",
      " 0.86340275 0.34111828 0.77034507 0.83944055 0.16269805 0.04448951\n",
      " 0.86761195 0.18259883 0.72076629 0.91658147 0.59943554 0.69884407\n",
      " 0.71831672 0.14355165 0.52446124 0.77828049 0.1704403  0.2400013\n",
      " 0.35468616 0.43807275 0.72865763 0.69188054 0.79247755 0.24452123\n",
      " 0.75720257 0.57530709 0.8714056  0.48907636 0.02920162 0.53495455\n",
      " 0.51831893 0.74922378 0.62128968 0.79930488 0.12636081 0.85226237\n",
      " 0.04160348 0.66937486 0.13058012 0.42965324 0.26801728 0.89281919\n",
      " 0.8631939  0.50803659 0.57849463 0.02834017 0.23680051 0.62860533]\n",
      "Logistic : ROC AUC = 0.805\n"
     ]
    },
    {
     "data": {
      "image/png": "[encoded data removed]",
      "text/plain": [
       "<Figure size 432x288 with 1 Axes>"
      ]
     },
     "metadata": {
      "needs_background": "light"
     },
     "output_type": "display_data"
    }
   ],
   "source": [
    "#ROC and AUC curve\n",
    "from sklearn.metrics import roc_auc_score\n",
    "from sklearn.metrics import roc_curve\n",
    "clf_probs = reg.predict_proba(x_test)\n",
    "clf_probs = clf_probs[:,1]\n",
    "print(clf_probs)\n",
    "ras = roc_auc_score(y_test,clf_probs)\n",
    "print(\"Logistic : ROC AUC = %.3f\" %(ras))\n",
    "from sklearn.preprocessing import label_binarize\n",
    "y = label_binarize(y_test,classes = [0,2])\n",
    "n_classes = y.shape[1]\n",
    "fpr,tpr,_ = roc_curve(y,clf_probs)\n",
    "plt.figure()\n",
    "lw = 2\n",
    "plt.plot(fpr,tpr, color = \"orange\", lw = lw, label = \"ROC curve (area = %0.2f\" % ras)\n",
    "plt.plot([0,1],[0,1], color = \"blue\",lw = lw, linestyle = '--')\n",
    "plt.xlim(0.0, 1.0)\n",
    "plt.ylim(0.0, 1.05)\n",
    "plt.xlabel('False Positive Value')\n",
    "plt.ylabel('True Positive Value')\n",
    "plt.title('Receiver operating Characteristics')\n",
    "plt.legend(loc = \"lower right\")\n",
    "plt.show()"
   ]
  },
  {
   "cell_type": "code",
   "execution_count": null,
   "metadata": {},
   "outputs": [],
   "source": []
  }
 ],
 "metadata": {
  "kernelspec": {
   "display_name": "Python 3",
   "language": "python",
   "name": "python3"
  },
  "language_info": {
   "codemirror_mode": {
    "name": "ipython",
    "version": 3
   },
   "file_extension": ".py",
   "mimetype": "text/x-python",
   "name": "python",
   "nbconvert_exporter": "python",
   "pygments_lexer": "ipython3",
   "version": "3.7.6"
  }
 },
 "nbformat": 4,
 "nbformat_minor": 4
}
