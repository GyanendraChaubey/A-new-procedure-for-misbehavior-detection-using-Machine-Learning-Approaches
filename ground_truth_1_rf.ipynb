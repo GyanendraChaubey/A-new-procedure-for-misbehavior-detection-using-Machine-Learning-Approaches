{
 "cells": [
  {
   "cell_type": "code",
   "execution_count": 52,
   "metadata": {},
   "outputs": [],
   "source": [
    "import pandas as pd\n",
    "import numpy as np"
   ]
  },
  {
   "cell_type": "code",
   "execution_count": 53,
   "metadata": {},
   "outputs": [],
   "source": [
    "df = pd.read_csv(r'D:/data_science/Research/1.csv')"
   ]
  },
  {
   "cell_type": "code",
   "execution_count": 54,
   "metadata": {},
   "outputs": [
    {
     "data": {
      "text/html": [
       "<div>\n",
       "<style scoped>\n",
       "    .dataframe tbody tr th:only-of-type {\n",
       "        vertical-align: middle;\n",
       "    }\n",
       "\n",
       "    .dataframe tbody tr th {\n",
       "        vertical-align: top;\n",
       "    }\n",
       "\n",
       "    .dataframe thead th {\n",
       "        text-align: right;\n",
       "    }\n",
       "</style>\n",
       "<table border=\"1\" class=\"dataframe\">\n",
       "  <thead>\n",
       "    <tr style=\"text-align: right;\">\n",
       "      <th></th>\n",
       "      <th>type</th>\n",
       "      <th>time</th>\n",
       "      <th>sender</th>\n",
       "      <th>attackerType</th>\n",
       "      <th>messageID</th>\n",
       "      <th>pos__001</th>\n",
       "      <th>pos__002</th>\n",
       "      <th>pos__003</th>\n",
       "      <th>pos_noise__001</th>\n",
       "      <th>pos_noise__002</th>\n",
       "      <th>pos_noise__003</th>\n",
       "      <th>spd__001</th>\n",
       "      <th>spd__002</th>\n",
       "      <th>spd__003</th>\n",
       "      <th>spd_noise__001</th>\n",
       "      <th>spd_noise__002</th>\n",
       "      <th>spd_noise__003</th>\n",
       "    </tr>\n",
       "  </thead>\n",
       "  <tbody>\n",
       "    <tr>\n",
       "      <th>0</th>\n",
       "      <td>4</td>\n",
       "      <td>10800.392785</td>\n",
       "      <td>13</td>\n",
       "      <td>0</td>\n",
       "      <td>38</td>\n",
       "      <td>3597.152086</td>\n",
       "      <td>5542.199221</td>\n",
       "      <td>1.895</td>\n",
       "      <td>0.0</td>\n",
       "      <td>0.0</td>\n",
       "      <td>0.0</td>\n",
       "      <td>-3.178366</td>\n",
       "      <td>38.798969</td>\n",
       "      <td>0.0</td>\n",
       "      <td>0.0</td>\n",
       "      <td>0.0</td>\n",
       "      <td>0.0</td>\n",
       "    </tr>\n",
       "    <tr>\n",
       "      <th>1</th>\n",
       "      <td>4</td>\n",
       "      <td>10800.437587</td>\n",
       "      <td>7</td>\n",
       "      <td>0</td>\n",
       "      <td>71</td>\n",
       "      <td>3609.398494</td>\n",
       "      <td>5446.803264</td>\n",
       "      <td>1.895</td>\n",
       "      <td>0.0</td>\n",
       "      <td>0.0</td>\n",
       "      <td>0.0</td>\n",
       "      <td>-3.534058</td>\n",
       "      <td>30.622234</td>\n",
       "      <td>0.0</td>\n",
       "      <td>0.0</td>\n",
       "      <td>0.0</td>\n",
       "      <td>0.0</td>\n",
       "    </tr>\n",
       "  </tbody>\n",
       "</table>\n",
       "</div>"
      ],
      "text/plain": [
       "   type          time  sender  attackerType  messageID     pos__001  \\\n",
       "0     4  10800.392785      13             0         38  3597.152086   \n",
       "1     4  10800.437587       7             0         71  3609.398494   \n",
       "\n",
       "      pos__002  pos__003  pos_noise__001  pos_noise__002  pos_noise__003  \\\n",
       "0  5542.199221     1.895             0.0             0.0             0.0   \n",
       "1  5446.803264     1.895             0.0             0.0             0.0   \n",
       "\n",
       "   spd__001   spd__002  spd__003  spd_noise__001  spd_noise__002  \\\n",
       "0 -3.178366  38.798969       0.0             0.0             0.0   \n",
       "1 -3.534058  30.622234       0.0             0.0             0.0   \n",
       "\n",
       "   spd_noise__003  \n",
       "0             0.0  \n",
       "1             0.0  "
      ]
     },
     "execution_count": 54,
     "metadata": {},
     "output_type": "execute_result"
    }
   ],
   "source": [
    "df.head(2)"
   ]
  },
  {
   "cell_type": "code",
   "execution_count": 55,
   "metadata": {},
   "outputs": [],
   "source": [
    "df.drop(['type','pos_noise__001','pos_noise__002','pos_noise__003','spd_noise__001','spd_noise__002','spd_noise__003','spd__003'],axis = 1, inplace = True)"
   ]
  },
  {
   "cell_type": "code",
   "execution_count": 56,
   "metadata": {},
   "outputs": [],
   "source": [
    "x = df[['time','sender','messageID','pos__001','pos__002','pos__003','spd__001','spd__002']]\n",
    "y = df.iloc[:,2:3].values"
   ]
  },
  {
   "cell_type": "code",
   "execution_count": 57,
   "metadata": {},
   "outputs": [],
   "source": [
    "from imblearn.combine import SMOTETomek\n",
    "smk = SMOTETomek(random_state = 0)\n",
    "x, y = smk.fit_sample(x,y)"
   ]
  },
  {
   "cell_type": "code",
   "execution_count": 58,
   "metadata": {},
   "outputs": [],
   "source": [
    "#Spliting dataset into Train and Test set \n",
    "from sklearn.model_selection import train_test_split\n",
    "x_train,x_test,y_train,y_test = train_test_split(x,y,test_size = 0.3, random_state = 0)"
   ]
  },
  {
   "cell_type": "code",
   "execution_count": 59,
   "metadata": {},
   "outputs": [],
   "source": [
    "#Feature Scaling\n",
    "from sklearn.preprocessing import StandardScaler\n",
    "sc = StandardScaler()\n",
    "x_train = sc.fit_transform(x_train)\n",
    "x_test = sc.transform(x_test)"
   ]
  },
  {
   "cell_type": "code",
   "execution_count": 60,
   "metadata": {},
   "outputs": [],
   "source": [
    "from sklearn.ensemble import RandomForestClassifier\n",
    "reg = RandomForestClassifier(random_state = 0)\n",
    "reg.fit(x_train,y_train)\n",
    "y_pred = reg.predict(x_test)"
   ]
  },
  {
   "cell_type": "code",
   "execution_count": 61,
   "metadata": {},
   "outputs": [
    {
     "name": "stdout",
     "output_type": "stream",
     "text": [
      "Accuracy: 100.00%\n"
     ]
    }
   ],
   "source": [
    "#checking Accuracy\n",
    "from sklearn.metrics import accuracy_score\n",
    "accuracy = accuracy_score(y_test, y_pred)\n",
    "print(\"Accuracy: %.2f%%\" % (accuracy * 100.0))"
   ]
  },
  {
   "cell_type": "code",
   "execution_count": 62,
   "metadata": {},
   "outputs": [
    {
     "name": "stdout",
     "output_type": "stream",
     "text": [
      "[[280   0]\n",
      " [  0 279]]\n"
     ]
    },
    {
     "name": "stderr",
     "output_type": "stream",
     "text": [
      "C:\\Users\\Jayesh\\anaconda3\\lib\\site-packages\\ipykernel_launcher.py:8: MatplotlibDeprecationWarning: Adding an axes using the same arguments as a previous axes currently reuses the earlier instance.  In a future version, a new instance will always be created and returned.  Meanwhile, this warning can be suppressed, and the future behavior ensured, by passing a unique label to each axes instance.\n",
      "  \n"
     ]
    },
    {
     "data": {
      "text/plain": [
       "Text(0.5, 1, 'Random Forest')"
      ]
     },
     "execution_count": 62,
     "metadata": {},
     "output_type": "execute_result"
    },
    {
     "data": {
      "image/png": "[encoded data removed]",
      "text/plain": [
       "<Figure size 432x288 with 2 Axes>"
      ]
     },
     "metadata": {
      "needs_background": "light"
     },
     "output_type": "display_data"
    }
   ],
   "source": [
    "#confusion matrix\n",
    "from sklearn.metrics import confusion_matrix\n",
    "con = confusion_matrix(y_test,y_pred)\n",
    "print(con)\n",
    "import seaborn as sns\n",
    "import matplotlib.pyplot as plt\n",
    "axes = sns.heatmap(con, square=True,annot=True,fmt='d',cbar = True, cmap = plt.cm.GnBu)\n",
    "ax = plt.axes()\n",
    "ax.set_title('Random Forest')"
   ]
  },
  {
   "cell_type": "code",
   "execution_count": 63,
   "metadata": {},
   "outputs": [
    {
     "name": "stdout",
     "output_type": "stream",
     "text": [
      "Decision Tree\n",
      "              precision    recall  f1-score   support\n",
      "\n",
      "           0       1.00      1.00      1.00       280\n",
      "           1       1.00      1.00      1.00       279\n",
      "\n",
      "    accuracy                           1.00       559\n",
      "   macro avg       1.00      1.00      1.00       559\n",
      "weighted avg       1.00      1.00      1.00       559\n",
      "\n"
     ]
    }
   ],
   "source": [
    "from sklearn.metrics import classification_report\n",
    "print('Decision Tree')\n",
    "print(classification_report(y_test, y_pred))\n"
   ]
  },
  {
   "cell_type": "code",
   "execution_count": 64,
   "metadata": {},
   "outputs": [
    {
     "name": "stdout",
     "output_type": "stream",
     "text": [
      "[1.   0.   0.98 1.   0.   1.   1.   0.03 0.   1.   0.   1.   0.   0.\n",
      " 0.   1.   0.   0.   0.   1.   1.   1.   0.   0.   0.   0.   1.   1.\n",
      " 0.   0.   0.   0.   0.   1.   0.   1.   0.   0.   1.   1.   1.   0.\n",
      " 0.   1.   1.   0.   0.   1.   0.   0.   1.   0.01 1.   1.   1.   1.\n",
      " 0.   0.02 0.01 0.   0.   1.   1.   0.01 1.   0.   1.   0.99 0.   0.\n",
      " 1.   1.   0.99 0.   1.   0.99 0.   0.   1.   0.   1.   1.   0.   1.\n",
      " 1.   1.   0.   1.   0.   1.   0.   0.   0.   0.   0.   1.   0.   0.\n",
      " 0.   0.   0.   0.   0.   1.   0.   0.   1.   0.   1.   1.   1.   0.\n",
      " 1.   1.   1.   1.   1.   1.   0.   0.   1.   1.   0.01 1.   1.   1.\n",
      " 1.   0.   1.   0.   0.99 0.   1.   0.25 1.   1.   0.   0.   0.   0.\n",
      " 0.   1.   1.   1.   0.   0.   0.   0.   1.   0.   1.   0.   1.   0.\n",
      " 1.   1.   1.   0.   1.   1.   1.   1.   0.   1.   1.   0.   1.   1.\n",
      " 0.   0.99 0.98 0.   0.99 1.   0.99 0.99 0.   0.   1.   1.   0.   0.\n",
      " 1.   0.   1.   0.   0.   0.   0.   1.   0.   0.   1.   0.   0.08 0.\n",
      " 0.   1.   1.   0.   0.   0.   0.   0.   0.   0.01 1.   1.   1.   1.\n",
      " 1.   0.   1.   0.02 1.   0.   0.   0.   0.01 1.   0.   0.   1.   0.\n",
      " 1.   0.   1.   1.   0.   0.02 0.   0.   0.   1.   0.   1.   0.99 1.\n",
      " 1.   1.   1.   0.   0.   0.   0.   0.   1.   1.   0.   1.   0.   0.\n",
      " 0.   0.   0.   1.   0.   1.   1.   0.   0.99 0.   1.   0.02 1.   1.\n",
      " 1.   1.   0.   0.   1.   0.   1.   1.   0.   0.   0.   0.   1.   1.\n",
      " 1.   1.   0.   1.   0.   1.   0.   0.2  1.   1.   1.   0.   0.   1.\n",
      " 1.   0.01 0.   1.   1.   1.   0.   0.   1.   0.   1.   0.   1.   0.99\n",
      " 1.   0.   0.   1.   1.   1.   0.   1.   1.   0.   0.01 1.   0.   0.\n",
      " 1.   1.   1.   0.   1.   1.   0.   0.   1.   1.   0.   1.   0.   1.\n",
      " 0.   0.   0.   1.   0.   1.   0.   0.   0.99 0.   0.   0.   0.   0.\n",
      " 0.   1.   0.   1.   0.   1.   0.   0.   1.   1.   0.   0.99 1.   1.\n",
      " 1.   1.   0.02 1.   1.   1.   1.   0.   1.   1.   1.   1.   0.   1.\n",
      " 1.   1.   1.   1.   1.   0.   0.   1.   0.   1.   0.   0.   1.   0.\n",
      " 1.   1.   1.   0.   0.   1.   0.   1.   1.   0.   1.   1.   1.   0.\n",
      " 1.   0.   1.   1.   0.   0.   1.   0.   0.   0.   1.   1.   0.   1.\n",
      " 0.   0.   1.   1.   1.   0.   0.   0.   1.   1.   0.   0.   1.   1.\n",
      " 1.   1.   0.   1.   0.   0.   1.   0.   0.   0.   1.   0.   1.   0.\n",
      " 1.   1.   1.   0.   0.   1.   0.   0.   0.   1.   1.   0.99 1.   1.\n",
      " 0.08 1.   0.01 0.   0.99 0.02 1.   1.   1.   0.   1.   0.   0.   0.\n",
      " 1.   1.   0.98 1.   0.   1.   0.   0.   1.   1.   0.   1.   0.   0.\n",
      " 1.   0.   1.   1.   1.   0.   1.   1.   0.   0.   0.   1.   0.   0.\n",
      " 0.   1.   0.   1.   1.   0.   0.   0.   0.   0.   0.   1.   1.   1.\n",
      " 1.   1.   1.   0.   1.   1.   0.   0.   0.99 1.   0.   0.   0.   0.\n",
      " 0.   0.   0.   0.02 1.   0.   0.   1.   1.   0.   0.   1.   0.   0.\n",
      " 0.   0.99 1.   0.   1.   0.13 0.   1.   1.   1.   1.   0.   0.  ]\n",
      "Logistic : ROC AUC = 1.000\n"
     ]
    },
    {
     "name": "stderr",
     "output_type": "stream",
     "text": [
      "C:\\Users\\Jayesh\\anaconda3\\lib\\site-packages\\sklearn\\metrics\\_ranking.py:808: UndefinedMetricWarning: No positive samples in y_true, true positive value should be meaningless\n",
      "  UndefinedMetricWarning)\n"
     ]
    },
    {
     "data": {
      "image/png": "[encoded data removed]",
      "text/plain": [
       "<Figure size 432x288 with 1 Axes>"
      ]
     },
     "metadata": {
      "needs_background": "light"
     },
     "output_type": "display_data"
    }
   ],
   "source": [
    "#ROC and AUC curve\n",
    "from sklearn.metrics import roc_auc_score\n",
    "from sklearn.metrics import roc_curve\n",
    "clf_probs = reg.predict_proba(x_test)\n",
    "clf_probs = clf_probs[:,1]\n",
    "print(clf_probs)\n",
    "ras = roc_auc_score(y_test,clf_probs)\n",
    "print(\"Logistic : ROC AUC = %.3f\" %(ras))\n",
    "from sklearn.preprocessing import label_binarize\n",
    "y = label_binarize(y_test,classes = [0,4])\n",
    "n_classes = y.shape[1]\n",
    "fpr,tpr,_ = roc_curve(y,clf_probs)\n",
    "plt.figure()\n",
    "lw = 2\n",
    "plt.plot(fpr,tpr, color = \"orange\", lw = lw, label = \"ROC curve (area = %0.2f\" % ras)\n",
    "plt.plot([0,1],[0,1], color = \"blue\",lw = lw, linestyle = '--')\n",
    "plt.xlim(0.0, 1.0)\n",
    "plt.ylim(0.0, 1.05)\n",
    "plt.xlabel('False Positive Value')\n",
    "plt.ylabel('True Positive Value')\n",
    "plt.title('Receiver operating Characteristics')\n",
    "plt.legend(loc = \"lower right\")\n",
    "plt.show()"
   ]
  },
  {
   "cell_type": "code",
   "execution_count": null,
   "metadata": {},
   "outputs": [],
   "source": []
  },
  {
   "cell_type": "code",
   "execution_count": null,
   "metadata": {},
   "outputs": [],
   "source": []
  }
 ],
 "metadata": {
  "kernelspec": {
   "display_name": "Python 3",
   "language": "python",
   "name": "python3"
  },
  "language_info": {
   "codemirror_mode": {
    "name": "ipython",
    "version": 3
   },
   "file_extension": ".py",
   "mimetype": "text/x-python",
   "name": "python",
   "nbconvert_exporter": "python",
   "pygments_lexer": "ipython3",
   "version": "3.7.6"
  }
 },
 "nbformat": 4,
 "nbformat_minor": 4
}
