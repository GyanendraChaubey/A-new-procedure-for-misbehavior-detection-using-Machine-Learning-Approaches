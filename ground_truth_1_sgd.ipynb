{
 "cells": [
  {
   "cell_type": "code",
   "execution_count": 1,
   "metadata": {},
   "outputs": [],
   "source": [
    "import pandas as pd\n",
    "import numpy as np"
   ]
  },
  {
   "cell_type": "code",
   "execution_count": 2,
   "metadata": {},
   "outputs": [],
   "source": [
    "df = pd.read_csv(r'D:/data_science/Research/1.csv')"
   ]
  },
  {
   "cell_type": "code",
   "execution_count": 3,
   "metadata": {},
   "outputs": [],
   "source": [
    "df.drop(['type','pos_noise__001','pos_noise__002','pos_noise__003','spd_noise__001','spd_noise__002','spd_noise__003','spd__003'],axis = 1, inplace = True)"
   ]
  },
  {
   "cell_type": "code",
   "execution_count": 4,
   "metadata": {},
   "outputs": [],
   "source": [
    "x = df[['time','sender','messageID','pos__001','pos__002','pos__003','spd__001','spd__002']]\n",
    "y = df.iloc[:,2:3].values"
   ]
  },
  {
   "cell_type": "code",
   "execution_count": 5,
   "metadata": {},
   "outputs": [
    {
     "name": "stderr",
     "output_type": "stream",
     "text": [
      "Using TensorFlow backend.\n",
      "C:\\Users\\Jayesh\\anaconda3\\lib\\site-packages\\tensorflow\\python\\framework\\dtypes.py:526: FutureWarning: Passing (type, 1) or '1type' as a synonym of type is deprecated; in a future version of numpy, it will be understood as (type, (1,)) / '(1,)type'.\n",
      "  _np_qint8 = np.dtype([(\"qint8\", np.int8, 1)])\n",
      "C:\\Users\\Jayesh\\anaconda3\\lib\\site-packages\\tensorflow\\python\\framework\\dtypes.py:527: FutureWarning: Passing (type, 1) or '1type' as a synonym of type is deprecated; in a future version of numpy, it will be understood as (type, (1,)) / '(1,)type'.\n",
      "  _np_quint8 = np.dtype([(\"quint8\", np.uint8, 1)])\n",
      "C:\\Users\\Jayesh\\anaconda3\\lib\\site-packages\\tensorflow\\python\\framework\\dtypes.py:528: FutureWarning: Passing (type, 1) or '1type' as a synonym of type is deprecated; in a future version of numpy, it will be understood as (type, (1,)) / '(1,)type'.\n",
      "  _np_qint16 = np.dtype([(\"qint16\", np.int16, 1)])\n",
      "C:\\Users\\Jayesh\\anaconda3\\lib\\site-packages\\tensorflow\\python\\framework\\dtypes.py:529: FutureWarning: Passing (type, 1) or '1type' as a synonym of type is deprecated; in a future version of numpy, it will be understood as (type, (1,)) / '(1,)type'.\n",
      "  _np_quint16 = np.dtype([(\"quint16\", np.uint16, 1)])\n",
      "C:\\Users\\Jayesh\\anaconda3\\lib\\site-packages\\tensorflow\\python\\framework\\dtypes.py:530: FutureWarning: Passing (type, 1) or '1type' as a synonym of type is deprecated; in a future version of numpy, it will be understood as (type, (1,)) / '(1,)type'.\n",
      "  _np_qint32 = np.dtype([(\"qint32\", np.int32, 1)])\n",
      "C:\\Users\\Jayesh\\anaconda3\\lib\\site-packages\\tensorflow\\python\\framework\\dtypes.py:535: FutureWarning: Passing (type, 1) or '1type' as a synonym of type is deprecated; in a future version of numpy, it will be understood as (type, (1,)) / '(1,)type'.\n",
      "  np_resource = np.dtype([(\"resource\", np.ubyte, 1)])\n"
     ]
    }
   ],
   "source": [
    "from imblearn.combine import SMOTETomek\n",
    "smk = SMOTETomek(random_state = 0)\n",
    "x, y = smk.fit_sample(x,y)"
   ]
  },
  {
   "cell_type": "code",
   "execution_count": 6,
   "metadata": {},
   "outputs": [],
   "source": [
    "#Spliting dataset into Train and Test set \n",
    "from sklearn.model_selection import train_test_split\n",
    "x_train,x_test,y_train,y_test = train_test_split(x,y,test_size = 0.3, random_state = 0)"
   ]
  },
  {
   "cell_type": "code",
   "execution_count": 7,
   "metadata": {},
   "outputs": [],
   "source": [
    "#Feature Scaling\n",
    "from sklearn.preprocessing import StandardScaler\n",
    "sc = StandardScaler()\n",
    "x_train = sc.fit_transform(x_train)\n",
    "x_test = sc.transform(x_test)"
   ]
  },
  {
   "cell_type": "code",
   "execution_count": 8,
   "metadata": {},
   "outputs": [],
   "source": [
    "#Building Model\n",
    "from sklearn.linear_model import SGDClassifier\n",
    "reg = SGDClassifier(loss = 'modified_huber',random_state = 0)\n",
    "reg.fit(x_train,y_train)\n",
    "y_pred = reg.predict(x_test)"
   ]
  },
  {
   "cell_type": "code",
   "execution_count": 9,
   "metadata": {},
   "outputs": [
    {
     "name": "stdout",
     "output_type": "stream",
     "text": [
      "Accuracy: 97.67%\n"
     ]
    }
   ],
   "source": [
    "#checking Accuracy\n",
    "from sklearn.metrics import accuracy_score\n",
    "accuracy = accuracy_score(y_test, y_pred)\n",
    "print(\"Accuracy: %.2f%%\" % (accuracy * 100.0))"
   ]
  },
  {
   "cell_type": "code",
   "execution_count": 10,
   "metadata": {},
   "outputs": [
    {
     "name": "stdout",
     "output_type": "stream",
     "text": [
      "[[267  13]\n",
      " [  0 279]]\n"
     ]
    },
    {
     "name": "stderr",
     "output_type": "stream",
     "text": [
      "C:\\Users\\Jayesh\\anaconda3\\lib\\site-packages\\ipykernel_launcher.py:8: MatplotlibDeprecationWarning: Adding an axes using the same arguments as a previous axes currently reuses the earlier instance.  In a future version, a new instance will always be created and returned.  Meanwhile, this warning can be suppressed, and the future behavior ensured, by passing a unique label to each axes instance.\n",
      "  \n"
     ]
    },
    {
     "data": {
      "text/plain": [
       "Text(0.5, 1, 'SGD')"
      ]
     },
     "execution_count": 10,
     "metadata": {},
     "output_type": "execute_result"
    },
    {
     "data": {
      "image/png": "[encoded data removed]",
      "text/plain": [
       "<Figure size 432x288 with 2 Axes>"
      ]
     },
     "metadata": {
      "needs_background": "light"
     },
     "output_type": "display_data"
    }
   ],
   "source": [
    "#confusion matrix\n",
    "from sklearn.metrics import confusion_matrix\n",
    "con = confusion_matrix(y_test,y_pred)\n",
    "print(con)\n",
    "import seaborn as sns\n",
    "import matplotlib.pyplot as plt\n",
    "axes = sns.heatmap(con, square=True,annot=True,fmt='d',cbar = True, cmap = plt.cm.GnBu)\n",
    "ax = plt.axes()\n",
    "ax.set_title('SGD')"
   ]
  },
  {
   "cell_type": "code",
   "execution_count": 11,
   "metadata": {},
   "outputs": [
    {
     "name": "stdout",
     "output_type": "stream",
     "text": [
      "SGD\n",
      "              precision    recall  f1-score   support\n",
      "\n",
      "           0       1.00      0.95      0.98       280\n",
      "           1       0.96      1.00      0.98       279\n",
      "\n",
      "    accuracy                           0.98       559\n",
      "   macro avg       0.98      0.98      0.98       559\n",
      "weighted avg       0.98      0.98      0.98       559\n",
      "\n"
     ]
    }
   ],
   "source": [
    "from sklearn.metrics import classification_report\n",
    "print('SGD')\n",
    "print(classification_report(y_test, y_pred))\n"
   ]
  },
  {
   "cell_type": "code",
   "execution_count": 12,
   "metadata": {},
   "outputs": [
    {
     "name": "stdout",
     "output_type": "stream",
     "text": [
      "[1.         0.         1.         1.         0.         1.\n",
      " 0.96681509 0.94513272 0.         1.         0.         1.\n",
      " 0.         0.         0.         1.         0.         0.\n",
      " 0.         1.         1.         1.         0.         0.\n",
      " 0.         0.         1.         0.99921895 0.         0.\n",
      " 0.         0.         0.         1.         0.         1.\n",
      " 0.         0.         1.         1.         1.         0.\n",
      " 0.         1.         1.         0.         0.         1.\n",
      " 0.         0.         1.         1.         1.         1.\n",
      " 1.         1.         0.         0.         1.         0.\n",
      " 1.         1.         0.91441548 0.67368572 1.         0.\n",
      " 1.         0.91785632 0.         0.         1.         1.\n",
      " 1.         0.         1.         0.92788276 0.         0.\n",
      " 1.         0.         1.         1.         0.         1.\n",
      " 1.         1.         0.         1.         0.         1.\n",
      " 0.         0.         0.         0.         0.         1.\n",
      " 0.         0.         0.         0.         0.         0.\n",
      " 0.         1.         0.         0.         1.         0.\n",
      " 1.         1.         1.         0.         1.         1.\n",
      " 1.         1.         1.         1.         0.         0.\n",
      " 0.96978484 1.         0.         1.         1.         1.\n",
      " 1.         0.         1.         0.43141065 0.99344794 0.\n",
      " 1.         1.         0.94279342 0.99522831 0.         0.\n",
      " 0.         0.         0.         1.         1.         1.\n",
      " 0.         0.         0.         0.         0.98539114 0.\n",
      " 1.         0.         1.         0.21614277 1.         1.\n",
      " 0.97466249 0.         0.99272095 1.         1.         1.\n",
      " 0.         1.         1.         0.         1.         1.\n",
      " 0.         0.97340302 0.91189475 0.         1.         1.\n",
      " 0.97101666 0.9249083  0.         0.         0.95878737 1.\n",
      " 0.         0.         1.         0.         1.         0.\n",
      " 0.         0.         0.         0.95158798 0.         0.2219023\n",
      " 1.         0.         1.         0.         0.         1.\n",
      " 1.         0.         0.         0.         0.         0.\n",
      " 0.         0.         1.         1.         0.96072429 1.\n",
      " 1.         0.         0.98827552 0.         1.         0.\n",
      " 0.         0.         0.         1.         0.         0.\n",
      " 0.9878869  0.         1.         0.         1.         1.\n",
      " 0.         0.97970614 0.         0.         0.         1.\n",
      " 0.         1.         1.         1.         1.         1.\n",
      " 1.         0.         0.         0.         0.         0.\n",
      " 1.         0.98051665 0.         1.         0.         0.\n",
      " 0.         0.         0.         1.         0.         1.\n",
      " 1.         0.         1.         0.         1.         0.\n",
      " 1.         1.         1.         1.         0.         0.\n",
      " 1.         0.         1.         0.95337504 0.         0.\n",
      " 0.         0.         1.         1.         1.         1.\n",
      " 0.         1.         1.         0.98067838 0.         1.\n",
      " 1.         1.         1.         0.         0.         1.\n",
      " 1.         0.         0.         1.         1.         1.\n",
      " 0.         0.         1.         0.         1.         0.\n",
      " 1.         0.99985486 1.         0.         0.         1.\n",
      " 0.96331647 1.         0.         1.         1.         0.\n",
      " 0.71705448 1.         0.         0.         1.         1.\n",
      " 1.         0.         1.         1.         0.         0.18691879\n",
      " 0.95691422 1.         0.         1.         0.         1.\n",
      " 0.         0.35232638 0.         1.         0.         1.\n",
      " 0.         0.         1.         0.         0.         0.\n",
      " 0.         0.         0.         1.         0.         1.\n",
      " 0.         1.         0.         0.         1.         1.\n",
      " 0.         1.         1.         1.         1.         1.\n",
      " 0.         1.         1.         1.         1.         0.\n",
      " 1.         0.96293689 1.         0.97750567 0.         1.\n",
      " 1.         1.         1.         1.         1.         0.\n",
      " 0.         1.         0.         1.         0.         0.\n",
      " 1.         0.         1.         1.         1.         0.\n",
      " 0.36544604 1.         0.         1.         1.         0.\n",
      " 1.         1.         1.         0.         1.         0.\n",
      " 1.         1.         0.         0.         1.         0.\n",
      " 0.         0.         1.         1.         0.         1.\n",
      " 0.         0.         1.         1.         1.         0.\n",
      " 0.         0.         1.         1.         0.         0.\n",
      " 1.         1.         1.         1.         0.         1.\n",
      " 0.         0.         1.         0.         0.         0.\n",
      " 1.         0.         1.         0.         1.         0.98384734\n",
      " 0.96209523 0.         0.         1.         0.         0.\n",
      " 0.         0.95012783 1.         1.         1.         1.\n",
      " 1.         1.         0.         0.         1.         0.\n",
      " 1.         1.         1.         0.         0.97376163 0.\n",
      " 0.         0.         1.         1.         0.98109571 1.\n",
      " 0.         1.         0.         0.         1.         1.\n",
      " 0.         1.         0.         0.         1.         0.\n",
      " 1.         1.         1.         0.         1.         1.\n",
      " 0.         0.         0.         1.         0.         0.\n",
      " 0.         1.         0.         1.         1.         0.\n",
      " 0.         0.         0.         0.         0.23645565 1.\n",
      " 0.9792318  1.         1.         1.         1.         0.\n",
      " 1.         1.         0.         0.         0.94428667 1.\n",
      " 0.         0.         0.         0.         0.         0.\n",
      " 0.         0.         1.         0.         0.23056644 0.99996468\n",
      " 1.         0.         0.         1.         0.         0.\n",
      " 0.         0.98352474 1.         0.         1.         1.\n",
      " 0.         1.         1.         1.         0.98882825 0.\n",
      " 0.        ]\n",
      "Logistic : ROC AUC = 0.981\n"
     ]
    },
    {
     "name": "stderr",
     "output_type": "stream",
     "text": [
      "C:\\Users\\Jayesh\\anaconda3\\lib\\site-packages\\sklearn\\metrics\\_ranking.py:808: UndefinedMetricWarning: No positive samples in y_true, true positive value should be meaningless\n",
      "  UndefinedMetricWarning)\n"
     ]
    },
    {
     "data": {
      "image/png": "[encoded data removed]",
      "text/plain": [
       "<Figure size 432x288 with 1 Axes>"
      ]
     },
     "metadata": {
      "needs_background": "light"
     },
     "output_type": "display_data"
    }
   ],
   "source": [
    "#ROC and AUC curve\n",
    "from sklearn.metrics import roc_auc_score\n",
    "from sklearn.metrics import roc_curve\n",
    "clf_probs = reg.predict_proba(x_test)\n",
    "clf_probs = clf_probs[:,1]\n",
    "print(clf_probs)\n",
    "ras = roc_auc_score(y_test,clf_probs)\n",
    "print(\"Logistic : ROC AUC = %.3f\" %(ras))\n",
    "from sklearn.preprocessing import label_binarize\n",
    "y = label_binarize(y_test,classes = [0,4])\n",
    "n_classes = y.shape[1]\n",
    "fpr,tpr,_ = roc_curve(y,clf_probs)\n",
    "plt.figure()\n",
    "lw = 2\n",
    "plt.plot(fpr,tpr, color = \"orange\", lw = lw, label = \"ROC curve (area = %0.2f\" % ras)\n",
    "plt.plot([0,1],[0,1], color = \"blue\",lw = lw, linestyle = '--')\n",
    "plt.xlim(0.0, 1.0)\n",
    "plt.ylim(0.0, 1.05)\n",
    "plt.xlabel('False Positive Value')\n",
    "plt.ylabel('True Positive Value')\n",
    "plt.title('Receiver operating Characteristics')\n",
    "plt.legend(loc = \"lower right\")\n",
    "plt.show()"
   ]
  },
  {
   "cell_type": "code",
   "execution_count": null,
   "metadata": {},
   "outputs": [],
   "source": []
  }
 ],
 "metadata": {
  "kernelspec": {
   "display_name": "Python 3",
   "language": "python",
   "name": "python3"
  },
  "language_info": {
   "codemirror_mode": {
    "name": "ipython",
    "version": 3
   },
   "file_extension": ".py",
   "mimetype": "text/x-python",
   "name": "python",
   "nbconvert_exporter": "python",
   "pygments_lexer": "ipython3",
   "version": "3.7.6"
  }
 },
 "nbformat": 4,
 "nbformat_minor": 4
}
