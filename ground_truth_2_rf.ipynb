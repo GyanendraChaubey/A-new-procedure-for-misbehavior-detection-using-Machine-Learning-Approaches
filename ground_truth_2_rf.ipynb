{
 "cells": [
  {
   "cell_type": "code",
   "execution_count": 39,
   "metadata": {},
   "outputs": [],
   "source": [
    "import numpy as np\n",
    "import pandas as pd"
   ]
  },
  {
   "cell_type": "code",
   "execution_count": 40,
   "metadata": {},
   "outputs": [],
   "source": [
    "df = pd.read_csv(r'D:/data_science/Research/GroundTruthJSONlog_2.csv')"
   ]
  },
  {
   "cell_type": "code",
   "execution_count": 41,
   "metadata": {},
   "outputs": [
    {
     "data": {
      "text/html": [
       "<div>\n",
       "<style scoped>\n",
       "    .dataframe tbody tr th:only-of-type {\n",
       "        vertical-align: middle;\n",
       "    }\n",
       "\n",
       "    .dataframe tbody tr th {\n",
       "        vertical-align: top;\n",
       "    }\n",
       "\n",
       "    .dataframe thead th {\n",
       "        text-align: right;\n",
       "    }\n",
       "</style>\n",
       "<table border=\"1\" class=\"dataframe\">\n",
       "  <thead>\n",
       "    <tr style=\"text-align: right;\">\n",
       "      <th></th>\n",
       "      <th>type</th>\n",
       "      <th>time</th>\n",
       "      <th>sender</th>\n",
       "      <th>attackerType</th>\n",
       "      <th>messageID</th>\n",
       "      <th>pos__001</th>\n",
       "      <th>pos__002</th>\n",
       "      <th>pos__003</th>\n",
       "      <th>pos_noise__001</th>\n",
       "      <th>pos_noise__002</th>\n",
       "      <th>pos_noise__003</th>\n",
       "      <th>spd__001</th>\n",
       "      <th>spd__002</th>\n",
       "      <th>spd__003</th>\n",
       "      <th>spd_noise__001</th>\n",
       "      <th>spd_noise__002</th>\n",
       "      <th>spd_noise__003</th>\n",
       "    </tr>\n",
       "  </thead>\n",
       "  <tbody>\n",
       "    <tr>\n",
       "      <th>0</th>\n",
       "      <td>4</td>\n",
       "      <td>10800.065710</td>\n",
       "      <td>25</td>\n",
       "      <td>0</td>\n",
       "      <td>38</td>\n",
       "      <td>3594.503928</td>\n",
       "      <td>5822.136692</td>\n",
       "      <td>1.895</td>\n",
       "      <td>0.0</td>\n",
       "      <td>0.0</td>\n",
       "      <td>0.0</td>\n",
       "      <td>-0.020621</td>\n",
       "      <td>-35.392890</td>\n",
       "      <td>0.0</td>\n",
       "      <td>0.0</td>\n",
       "      <td>0.0</td>\n",
       "      <td>0.0</td>\n",
       "    </tr>\n",
       "    <tr>\n",
       "      <th>1</th>\n",
       "      <td>4</td>\n",
       "      <td>10800.241039</td>\n",
       "      <td>37</td>\n",
       "      <td>0</td>\n",
       "      <td>63</td>\n",
       "      <td>3588.387672</td>\n",
       "      <td>6003.151424</td>\n",
       "      <td>1.895</td>\n",
       "      <td>0.0</td>\n",
       "      <td>0.0</td>\n",
       "      <td>0.0</td>\n",
       "      <td>2.733597</td>\n",
       "      <td>36.816215</td>\n",
       "      <td>0.0</td>\n",
       "      <td>0.0</td>\n",
       "      <td>0.0</td>\n",
       "      <td>0.0</td>\n",
       "    </tr>\n",
       "    <tr>\n",
       "      <th>2</th>\n",
       "      <td>4</td>\n",
       "      <td>10800.361496</td>\n",
       "      <td>13</td>\n",
       "      <td>2</td>\n",
       "      <td>88</td>\n",
       "      <td>3584.615626</td>\n",
       "      <td>5891.170606</td>\n",
       "      <td>1.895</td>\n",
       "      <td>0.0</td>\n",
       "      <td>0.0</td>\n",
       "      <td>0.0</td>\n",
       "      <td>1.817582</td>\n",
       "      <td>42.584663</td>\n",
       "      <td>0.0</td>\n",
       "      <td>0.0</td>\n",
       "      <td>0.0</td>\n",
       "      <td>0.0</td>\n",
       "    </tr>\n",
       "    <tr>\n",
       "      <th>3</th>\n",
       "      <td>4</td>\n",
       "      <td>10800.502533</td>\n",
       "      <td>43</td>\n",
       "      <td>0</td>\n",
       "      <td>109</td>\n",
       "      <td>3822.766368</td>\n",
       "      <td>5266.901172</td>\n",
       "      <td>1.895</td>\n",
       "      <td>0.0</td>\n",
       "      <td>0.0</td>\n",
       "      <td>0.0</td>\n",
       "      <td>1.118316</td>\n",
       "      <td>-0.847054</td>\n",
       "      <td>0.0</td>\n",
       "      <td>0.0</td>\n",
       "      <td>0.0</td>\n",
       "      <td>0.0</td>\n",
       "    </tr>\n",
       "    <tr>\n",
       "      <th>4</th>\n",
       "      <td>4</td>\n",
       "      <td>10800.521696</td>\n",
       "      <td>31</td>\n",
       "      <td>0</td>\n",
       "      <td>130</td>\n",
       "      <td>3820.685635</td>\n",
       "      <td>5264.333061</td>\n",
       "      <td>1.895</td>\n",
       "      <td>0.0</td>\n",
       "      <td>0.0</td>\n",
       "      <td>0.0</td>\n",
       "      <td>0.885788</td>\n",
       "      <td>-0.529247</td>\n",
       "      <td>0.0</td>\n",
       "      <td>0.0</td>\n",
       "      <td>0.0</td>\n",
       "      <td>0.0</td>\n",
       "    </tr>\n",
       "  </tbody>\n",
       "</table>\n",
       "</div>"
      ],
      "text/plain": [
       "   type          time  sender  attackerType  messageID     pos__001  \\\n",
       "0     4  10800.065710      25             0         38  3594.503928   \n",
       "1     4  10800.241039      37             0         63  3588.387672   \n",
       "2     4  10800.361496      13             2         88  3584.615626   \n",
       "3     4  10800.502533      43             0        109  3822.766368   \n",
       "4     4  10800.521696      31             0        130  3820.685635   \n",
       "\n",
       "      pos__002  pos__003  pos_noise__001  pos_noise__002  pos_noise__003  \\\n",
       "0  5822.136692     1.895             0.0             0.0             0.0   \n",
       "1  6003.151424     1.895             0.0             0.0             0.0   \n",
       "2  5891.170606     1.895             0.0             0.0             0.0   \n",
       "3  5266.901172     1.895             0.0             0.0             0.0   \n",
       "4  5264.333061     1.895             0.0             0.0             0.0   \n",
       "\n",
       "   spd__001   spd__002  spd__003  spd_noise__001  spd_noise__002  \\\n",
       "0 -0.020621 -35.392890       0.0             0.0             0.0   \n",
       "1  2.733597  36.816215       0.0             0.0             0.0   \n",
       "2  1.817582  42.584663       0.0             0.0             0.0   \n",
       "3  1.118316  -0.847054       0.0             0.0             0.0   \n",
       "4  0.885788  -0.529247       0.0             0.0             0.0   \n",
       "\n",
       "   spd_noise__003  \n",
       "0             0.0  \n",
       "1             0.0  \n",
       "2             0.0  \n",
       "3             0.0  \n",
       "4             0.0  "
      ]
     },
     "execution_count": 41,
     "metadata": {},
     "output_type": "execute_result"
    }
   ],
   "source": [
    "df.head()"
   ]
  },
  {
   "cell_type": "code",
   "execution_count": 42,
   "metadata": {},
   "outputs": [],
   "source": [
    "df.drop(['type','pos_noise__001','pos_noise__002','pos_noise__003','spd_noise__001','spd_noise__002','spd_noise__003','spd__003'],axis = 1, inplace = True)"
   ]
  },
  {
   "cell_type": "code",
   "execution_count": 43,
   "metadata": {},
   "outputs": [],
   "source": [
    "x = df[['time','sender','messageID','pos__001','pos__002','pos__003','spd__001','spd__002']]\n",
    "y = df.iloc[:,2:3].values"
   ]
  },
  {
   "cell_type": "code",
   "execution_count": 44,
   "metadata": {},
   "outputs": [],
   "source": [
    "from imblearn.combine import SMOTETomek\n",
    "smk = SMOTETomek(random_state = 0)\n",
    "x, y = smk.fit_sample(x,y)"
   ]
  },
  {
   "cell_type": "code",
   "execution_count": 45,
   "metadata": {},
   "outputs": [],
   "source": [
    "#Spliting dataset into Train and Test set \n",
    "from sklearn.model_selection import train_test_split\n",
    "x_train,x_test,y_train,y_test = train_test_split(x,y,test_size = 0.3, random_state = 0)"
   ]
  },
  {
   "cell_type": "code",
   "execution_count": 46,
   "metadata": {},
   "outputs": [],
   "source": [
    "#Feature Scaling\n",
    "from sklearn.preprocessing import StandardScaler\n",
    "sc = StandardScaler()\n",
    "x_train = sc.fit_transform(x_train)\n",
    "x_test = sc.transform(x_test)"
   ]
  },
  {
   "cell_type": "code",
   "execution_count": 47,
   "metadata": {},
   "outputs": [],
   "source": [
    "from sklearn.ensemble import RandomForestClassifier\n",
    "reg = RandomForestClassifier(random_state = 0)\n",
    "reg.fit(x_train,y_train)\n",
    "y_pred = reg.predict(x_test)"
   ]
  },
  {
   "cell_type": "code",
   "execution_count": 48,
   "metadata": {},
   "outputs": [
    {
     "name": "stdout",
     "output_type": "stream",
     "text": [
      "Accuracy: 99.24%\n"
     ]
    }
   ],
   "source": [
    "#checking Accuracy\n",
    "from sklearn.metrics import accuracy_score\n",
    "accuracy = accuracy_score(y_test, y_pred)\n",
    "print(\"Accuracy: %.2f%%\" % (accuracy * 100.0))"
   ]
  },
  {
   "cell_type": "code",
   "execution_count": 49,
   "metadata": {},
   "outputs": [
    {
     "name": "stdout",
     "output_type": "stream",
     "text": [
      "[[257   3]\n",
      " [  1 267]]\n"
     ]
    },
    {
     "name": "stderr",
     "output_type": "stream",
     "text": [
      "C:\\Users\\Jayesh\\anaconda3\\lib\\site-packages\\ipykernel_launcher.py:8: MatplotlibDeprecationWarning: Adding an axes using the same arguments as a previous axes currently reuses the earlier instance.  In a future version, a new instance will always be created and returned.  Meanwhile, this warning can be suppressed, and the future behavior ensured, by passing a unique label to each axes instance.\n",
      "  \n"
     ]
    },
    {
     "data": {
      "text/plain": [
       "Text(0.5, 1, 'Random Forest')"
      ]
     },
     "execution_count": 49,
     "metadata": {},
     "output_type": "execute_result"
    },
    {
     "data": {
      "image/png": "[encoded data removed]",
      "text/plain": [
       "<Figure size 432x288 with 2 Axes>"
      ]
     },
     "metadata": {
      "needs_background": "light"
     },
     "output_type": "display_data"
    }
   ],
   "source": [
    "#confusion matrix\n",
    "from sklearn.metrics import confusion_matrix\n",
    "con = confusion_matrix(y_test,y_pred)\n",
    "print(con)\n",
    "import seaborn as sns\n",
    "import matplotlib.pyplot as plt\n",
    "axes = sns.heatmap(con, square=True,annot=True,fmt='d',cbar = True, cmap = plt.cm.GnBu)\n",
    "ax = plt.axes()\n",
    "ax.set_title('Random Forest')"
   ]
  },
  {
   "cell_type": "code",
   "execution_count": 50,
   "metadata": {},
   "outputs": [
    {
     "name": "stdout",
     "output_type": "stream",
     "text": [
      "Decision Tree\n",
      "              precision    recall  f1-score   support\n",
      "\n",
      "           0       1.00      0.99      0.99       260\n",
      "           2       0.99      1.00      0.99       268\n",
      "\n",
      "    accuracy                           0.99       528\n",
      "   macro avg       0.99      0.99      0.99       528\n",
      "weighted avg       0.99      0.99      0.99       528\n",
      "\n"
     ]
    }
   ],
   "source": [
    "from sklearn.metrics import classification_report\n",
    "print('Decision Tree')\n",
    "print(classification_report(y_test, y_pred))\n"
   ]
  },
  {
   "cell_type": "code",
   "execution_count": 51,
   "metadata": {},
   "outputs": [
    {
     "name": "stdout",
     "output_type": "stream",
     "text": [
      "[0.96 0.11 0.01 0.86 0.97 0.98 0.98 0.98 0.98 1.   0.01 0.   1.   0.03\n",
      " 0.   0.01 0.87 1.   0.02 0.   1.   0.08 0.07 1.   0.98 1.   0.99 0.\n",
      " 0.   0.   0.81 0.97 0.08 0.97 1.   0.99 0.9  0.   0.01 0.01 0.07 0.\n",
      " 0.99 1.   1.   0.93 0.   0.98 0.96 0.   0.01 0.   0.94 1.   0.   1.\n",
      " 0.   0.94 1.   0.99 0.   1.   0.   0.79 0.01 0.   0.97 0.   0.82 0.\n",
      " 0.03 0.   1.   0.   0.   0.   1.   0.   0.98 1.   0.1  0.   0.   0.95\n",
      " 0.   1.   0.98 0.29 1.   0.   1.   0.   0.92 0.   1.   0.   1.   0.01\n",
      " 0.   0.   1.   0.18 0.99 0.   0.05 0.16 0.94 1.   0.   0.95 1.   0.77\n",
      " 0.44 0.95 0.   0.95 0.06 1.   0.   1.   0.   1.   0.01 1.   1.   0.\n",
      " 1.   1.   0.97 0.9  1.   0.   1.   1.   0.06 1.   1.   0.94 0.97 0.92\n",
      " 1.   1.   0.2  0.06 0.01 0.   0.98 0.   1.   0.99 0.   0.99 0.   0.\n",
      " 0.06 1.   1.   0.03 1.   0.97 0.01 0.03 0.97 0.01 0.02 0.01 0.94 1.\n",
      " 1.   0.98 0.   0.01 0.92 1.   1.   0.   0.02 0.88 0.85 0.92 0.   1.\n",
      " 0.93 1.   0.   0.01 0.99 1.   0.   1.   1.   1.   1.   1.   1.   0.94\n",
      " 0.99 0.93 0.02 0.   0.38 0.98 0.86 0.05 0.   1.   0.99 0.   0.74 0.82\n",
      " 0.   0.03 0.   0.99 0.   0.   1.   0.   1.   0.05 1.   0.97 0.51 0.98\n",
      " 1.   0.99 0.98 1.   0.   0.03 0.95 0.01 1.   0.06 0.09 0.01 0.03 0.\n",
      " 0.01 0.03 0.   0.01 0.   0.   0.   1.   0.01 0.86 0.09 0.01 0.   0.\n",
      " 0.   0.01 0.85 0.95 0.   1.   0.98 0.99 0.   0.   1.   0.04 0.   0.\n",
      " 0.99 0.   0.   1.   0.98 0.   0.55 0.98 0.   0.   0.06 0.   1.   0.\n",
      " 1.   0.   0.03 1.   0.01 0.   0.01 0.02 0.98 0.01 0.05 0.98 0.95 0.06\n",
      " 0.89 1.   1.   0.01 0.02 0.99 1.   1.   0.   0.9  1.   1.   1.   0.\n",
      " 1.   1.   1.   1.   0.9  0.97 1.   1.   0.08 0.   0.96 0.99 0.   0.03\n",
      " 1.   0.01 0.98 0.9  0.   0.01 1.   1.   0.99 0.97 0.95 1.   0.58 0.\n",
      " 0.1  0.04 0.   0.   1.   0.   0.   0.92 0.   0.39 0.94 0.   1.   0.26\n",
      " 0.05 0.66 1.   0.03 1.   0.98 1.   0.02 0.   0.89 0.   0.01 0.   1.\n",
      " 0.99 1.   0.03 0.   0.89 1.   1.   0.   0.   0.   0.01 1.   0.   1.\n",
      " 1.   0.86 0.03 0.99 0.01 0.   1.   0.   0.02 0.88 0.01 0.01 0.84 0.98\n",
      " 0.78 0.11 0.01 1.   0.98 1.   0.   0.99 0.02 0.   0.83 0.01 0.99 0.\n",
      " 1.   0.   0.78 0.   1.   0.   0.   0.   0.99 0.01 0.82 0.99 0.98 1.\n",
      " 1.   1.   0.31 1.   1.   0.   0.93 0.99 0.05 1.   0.98 0.9  0.   0.97\n",
      " 0.01 0.   0.   0.   0.72 0.   0.   1.   0.   0.99 0.   1.   0.1  0.99\n",
      " 0.97 0.77 1.   0.01 0.02 0.98 0.01 1.   0.05 1.   1.   0.   1.   0.97\n",
      " 0.99 0.99 0.   1.   0.98 1.   0.01 0.   0.03 0.   0.   1.   0.96 0.02\n",
      " 0.   0.02 0.04 1.   0.07 0.   0.   1.   0.   0.   0.97 0.   1.   1.\n",
      " 0.01 0.   0.08 0.   0.   0.98 0.   0.   0.   0.   0.99 0.97 0.96 0.\n",
      " 1.   0.05 1.   0.   0.   1.   0.88 0.11 0.   0.84 0.   1.   0.   1.\n",
      " 0.01 0.05 0.94 1.   0.02 0.58 0.   0.86 0.   0.  ]\n",
      "Logistic : ROC AUC = 1.000\n"
     ]
    },
    {
     "name": "stderr",
     "output_type": "stream",
     "text": [
      "C:\\Users\\Jayesh\\anaconda3\\lib\\site-packages\\sklearn\\metrics\\_ranking.py:808: UndefinedMetricWarning: No positive samples in y_true, true positive value should be meaningless\n",
      "  UndefinedMetricWarning)\n"
     ]
    },
    {
     "data": {
      "image/png": "[encoded data removed]",
      "text/plain": [
       "<Figure size 432x288 with 1 Axes>"
      ]
     },
     "metadata": {
      "needs_background": "light"
     },
     "output_type": "display_data"
    }
   ],
   "source": [
    "#ROC and AUC curve\n",
    "from sklearn.metrics import roc_auc_score\n",
    "from sklearn.metrics import roc_curve\n",
    "clf_probs = reg.predict_proba(x_test)\n",
    "clf_probs = clf_probs[:,1]\n",
    "print(clf_probs)\n",
    "ras = roc_auc_score(y_test,clf_probs)\n",
    "print(\"Logistic : ROC AUC = %.3f\" %(ras))\n",
    "from sklearn.preprocessing import label_binarize\n",
    "y = label_binarize(y_test,classes = [0,4])\n",
    "n_classes = y.shape[1]\n",
    "fpr,tpr,_ = roc_curve(y,clf_probs)\n",
    "plt.figure()\n",
    "lw = 2\n",
    "plt.plot(fpr,tpr, color = \"orange\", lw = lw, label = \"ROC curve (area = %0.2f\" % ras)\n",
    "plt.plot([0,1],[0,1], color = \"blue\",lw = lw, linestyle = '--')\n",
    "plt.xlim(0.0, 1.0)\n",
    "plt.ylim(0.0, 1.05)\n",
    "plt.xlabel('False Positive Value')\n",
    "plt.ylabel('True Positive Value')\n",
    "plt.title('Receiver operating Characteristics')\n",
    "plt.legend(loc = \"lower right\")\n",
    "plt.show()"
   ]
  },
  {
   "cell_type": "code",
   "execution_count": null,
   "metadata": {},
   "outputs": [],
   "source": []
  },
  {
   "cell_type": "code",
   "execution_count": null,
   "metadata": {},
   "outputs": [],
   "source": []
  }
 ],
 "metadata": {
  "kernelspec": {
   "display_name": "Python 3",
   "language": "python",
   "name": "python3"
  },
  "language_info": {
   "codemirror_mode": {
    "name": "ipython",
    "version": 3
   },
   "file_extension": ".py",
   "mimetype": "text/x-python",
   "name": "python",
   "nbconvert_exporter": "python",
   "pygments_lexer": "ipython3",
   "version": "3.7.6"
  }
 },
 "nbformat": 4,
 "nbformat_minor": 4
}
