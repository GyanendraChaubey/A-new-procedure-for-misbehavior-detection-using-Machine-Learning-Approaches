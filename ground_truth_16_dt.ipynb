{
 "cells": [
  {
   "cell_type": "code",
   "execution_count": 15,
   "metadata": {},
   "outputs": [],
   "source": [
    "import pandas as pd\n",
    "import numpy as np"
   ]
  },
  {
   "cell_type": "code",
   "execution_count": 16,
   "metadata": {},
   "outputs": [],
   "source": [
    "df = pd.read_csv(r'D:/data_science/Research/16.csv')"
   ]
  },
  {
   "cell_type": "code",
   "execution_count": 17,
   "metadata": {},
   "outputs": [
    {
     "data": {
      "text/html": [
       "<div>\n",
       "<style scoped>\n",
       "    .dataframe tbody tr th:only-of-type {\n",
       "        vertical-align: middle;\n",
       "    }\n",
       "\n",
       "    .dataframe tbody tr th {\n",
       "        vertical-align: top;\n",
       "    }\n",
       "\n",
       "    .dataframe thead th {\n",
       "        text-align: right;\n",
       "    }\n",
       "</style>\n",
       "<table border=\"1\" class=\"dataframe\">\n",
       "  <thead>\n",
       "    <tr style=\"text-align: right;\">\n",
       "      <th></th>\n",
       "      <th>type</th>\n",
       "      <th>time</th>\n",
       "      <th>sender</th>\n",
       "      <th>attackerType</th>\n",
       "      <th>messageID</th>\n",
       "      <th>pos/0</th>\n",
       "      <th>pos/1</th>\n",
       "      <th>pos/2</th>\n",
       "      <th>pos_noise/0</th>\n",
       "      <th>pos_noise/1</th>\n",
       "      <th>pos_noise/2</th>\n",
       "      <th>spd/0</th>\n",
       "      <th>spd/1</th>\n",
       "      <th>spd/2</th>\n",
       "      <th>spd_noise/0</th>\n",
       "      <th>spd_noise/1</th>\n",
       "      <th>spd_noise/2</th>\n",
       "    </tr>\n",
       "  </thead>\n",
       "  <tbody>\n",
       "    <tr>\n",
       "      <th>0</th>\n",
       "      <td>4</td>\n",
       "      <td>25200.006694</td>\n",
       "      <td>331</td>\n",
       "      <td>0</td>\n",
       "      <td>973</td>\n",
       "      <td>5409.774101</td>\n",
       "      <td>5794.384047</td>\n",
       "      <td>1.895</td>\n",
       "      <td>0</td>\n",
       "      <td>0</td>\n",
       "      <td>0</td>\n",
       "      <td>-1.181680e+01</td>\n",
       "      <td>-3.873119e+00</td>\n",
       "      <td>0</td>\n",
       "      <td>0</td>\n",
       "      <td>0</td>\n",
       "      <td>0</td>\n",
       "    </tr>\n",
       "    <tr>\n",
       "      <th>1</th>\n",
       "      <td>4</td>\n",
       "      <td>25200.008074</td>\n",
       "      <td>967</td>\n",
       "      <td>0</td>\n",
       "      <td>1222</td>\n",
       "      <td>4432.548015</td>\n",
       "      <td>5295.893829</td>\n",
       "      <td>1.895</td>\n",
       "      <td>0</td>\n",
       "      <td>0</td>\n",
       "      <td>0</td>\n",
       "      <td>-4.185271e-14</td>\n",
       "      <td>2.025677e-14</td>\n",
       "      <td>0</td>\n",
       "      <td>0</td>\n",
       "      <td>0</td>\n",
       "      <td>0</td>\n",
       "    </tr>\n",
       "  </tbody>\n",
       "</table>\n",
       "</div>"
      ],
      "text/plain": [
       "   type          time  sender  attackerType  messageID        pos/0  \\\n",
       "0     4  25200.006694     331             0        973  5409.774101   \n",
       "1     4  25200.008074     967             0       1222  4432.548015   \n",
       "\n",
       "         pos/1  pos/2  pos_noise/0  pos_noise/1  pos_noise/2         spd/0  \\\n",
       "0  5794.384047  1.895            0            0            0 -1.181680e+01   \n",
       "1  5295.893829  1.895            0            0            0 -4.185271e-14   \n",
       "\n",
       "          spd/1  spd/2  spd_noise/0  spd_noise/1  spd_noise/2  \n",
       "0 -3.873119e+00      0            0            0            0  \n",
       "1  2.025677e-14      0            0            0            0  "
      ]
     },
     "execution_count": 17,
     "metadata": {},
     "output_type": "execute_result"
    }
   ],
   "source": [
    "df.head(2)\n"
   ]
  },
  {
   "cell_type": "code",
   "execution_count": 18,
   "metadata": {},
   "outputs": [
    {
     "data": {
      "text/plain": [
       "0     14130\n",
       "16     6352\n",
       "Name: attackerType, dtype: int64"
      ]
     },
     "execution_count": 18,
     "metadata": {},
     "output_type": "execute_result"
    }
   ],
   "source": [
    "df['attackerType'].value_counts()"
   ]
  },
  {
   "cell_type": "code",
   "execution_count": 19,
   "metadata": {},
   "outputs": [],
   "source": [
    "df.drop(['type','pos_noise/0','pos_noise/1','pos_noise/2','spd_noise/2','spd_noise/1','spd_noise/0','spd/2'],axis = 1, inplace = True)"
   ]
  },
  {
   "cell_type": "code",
   "execution_count": 20,
   "metadata": {},
   "outputs": [],
   "source": [
    "x = df[['time','sender','messageID','pos/0','pos/1','pos/2','spd/0','spd/1']]\n",
    "y = df.iloc[:,2:3].values"
   ]
  },
  {
   "cell_type": "code",
   "execution_count": 21,
   "metadata": {},
   "outputs": [],
   "source": [
    "from imblearn.combine import SMOTETomek\n",
    "smk = SMOTETomek(random_state = 0)\n",
    "x, y = smk.fit_sample(x,y)"
   ]
  },
  {
   "cell_type": "code",
   "execution_count": 22,
   "metadata": {},
   "outputs": [],
   "source": [
    "#Spliting dataset into Train and Test set \n",
    "from sklearn.model_selection import train_test_split\n",
    "x_train,x_test,y_train,y_test = train_test_split(x,y,test_size = 0.3, random_state = 0)"
   ]
  },
  {
   "cell_type": "code",
   "execution_count": 23,
   "metadata": {},
   "outputs": [],
   "source": [
    "#Feature Scaling\n",
    "from sklearn.preprocessing import StandardScaler\n",
    "sc = StandardScaler()\n",
    "x_train = sc.fit_transform(x_train)\n",
    "x_test = sc.transform(x_test)"
   ]
  },
  {
   "cell_type": "code",
   "execution_count": 24,
   "metadata": {},
   "outputs": [],
   "source": [
    "#Building Model\n",
    "from sklearn.tree import DecisionTreeClassifier\n",
    "reg = DecisionTreeClassifier(criterion = 'entropy',random_state = 0)\n",
    "reg.fit(x_train,y_train)\n",
    "y_pred = reg.predict(x_test)"
   ]
  },
  {
   "cell_type": "code",
   "execution_count": 25,
   "metadata": {},
   "outputs": [
    {
     "name": "stdout",
     "output_type": "stream",
     "text": [
      "Accuracy: 94.69%\n"
     ]
    }
   ],
   "source": [
    "#checking Accuracy\n",
    "from sklearn.metrics import accuracy_score\n",
    "accuracy = accuracy_score(y_test, y_pred)\n",
    "print(\"Accuracy: %.2f%%\" % (accuracy * 100.0))"
   ]
  },
  {
   "cell_type": "code",
   "execution_count": 29,
   "metadata": {},
   "outputs": [
    {
     "name": "stdout",
     "output_type": "stream",
     "text": [
      "[[3539  136]\n",
      " [ 260 3518]]\n"
     ]
    },
    {
     "name": "stderr",
     "output_type": "stream",
     "text": [
      "C:\\Users\\Jayesh\\anaconda3\\lib\\site-packages\\ipykernel_launcher.py:8: MatplotlibDeprecationWarning: Adding an axes using the same arguments as a previous axes currently reuses the earlier instance.  In a future version, a new instance will always be created and returned.  Meanwhile, this warning can be suppressed, and the future behavior ensured, by passing a unique label to each axes instance.\n",
      "  \n"
     ]
    },
    {
     "data": {
      "text/plain": [
       "Text(0.5, 1, 'Decsion Tree')"
      ]
     },
     "execution_count": 29,
     "metadata": {},
     "output_type": "execute_result"
    },
    {
     "data": {
      "image/png": "[encoded data removed]",
      "text/plain": [
       "<Figure size 432x288 with 2 Axes>"
      ]
     },
     "metadata": {
      "needs_background": "light"
     },
     "output_type": "display_data"
    }
   ],
   "source": [
    "#confusion matrix\n",
    "from sklearn.metrics import confusion_matrix\n",
    "con = confusion_matrix(y_test,y_pred)\n",
    "print(con)\n",
    "import seaborn as sns\n",
    "import matplotlib.pyplot as plt\n",
    "axes = sns.heatmap(con, square=True,annot=True,fmt='d',cbar = True, cmap = plt.cm.GnBu)\n",
    "ax = plt.axes()\n",
    "ax.set_title('Decsion Tree')\n"
   ]
  },
  {
   "cell_type": "code",
   "execution_count": 27,
   "metadata": {},
   "outputs": [
    {
     "name": "stdout",
     "output_type": "stream",
     "text": [
      "Decision Tree\n",
      "              precision    recall  f1-score   support\n",
      "\n",
      "           0       0.93      0.96      0.95      3675\n",
      "          16       0.96      0.93      0.95      3778\n",
      "\n",
      "    accuracy                           0.95      7453\n",
      "   macro avg       0.95      0.95      0.95      7453\n",
      "weighted avg       0.95      0.95      0.95      7453\n",
      "\n"
     ]
    }
   ],
   "source": [
    "from sklearn.metrics import classification_report\n",
    "print('Decision Tree')\n",
    "print(classification_report(y_test, y_pred))"
   ]
  },
  {
   "cell_type": "code",
   "execution_count": 28,
   "metadata": {},
   "outputs": [
    {
     "name": "stdout",
     "output_type": "stream",
     "text": [
      "[0. 0. 1. ... 1. 0. 0.]\n",
      "Logistic : ROC AUC = 0.947\n"
     ]
    },
    {
     "data": {
      "image/png": "[encoded data removed]",
      "text/plain": [
       "<Figure size 432x288 with 1 Axes>"
      ]
     },
     "metadata": {
      "needs_background": "light"
     },
     "output_type": "display_data"
    }
   ],
   "source": [
    "#ROC and AUC curve\n",
    "from sklearn.metrics import roc_auc_score\n",
    "from sklearn.metrics import roc_curve\n",
    "clf_probs = reg.predict_proba(x_test)\n",
    "clf_probs = clf_probs[:,1]\n",
    "print(clf_probs)\n",
    "ras = roc_auc_score(y_test,clf_probs)\n",
    "print(\"Logistic : ROC AUC = %.3f\" %(ras))\n",
    "from sklearn.preprocessing import label_binarize\n",
    "y = label_binarize(y_test,classes = [0,16])\n",
    "n_classes = y.shape[1]\n",
    "fpr,tpr,_ = roc_curve(y,clf_probs)\n",
    "plt.figure()\n",
    "lw = 2\n",
    "plt.plot(fpr,tpr, color = \"orange\", lw = lw, label = \"ROC curve (area = %0.2f\" % ras)\n",
    "plt.plot([0,1],[0,1], color = \"blue\",lw = lw, linestyle = '--')\n",
    "plt.xlim(0.0, 1.0)\n",
    "plt.ylim(0.0, 1.05)\n",
    "plt.xlabel('False Positive Value')\n",
    "plt.ylabel('True Positive Value')\n",
    "plt.title('Receiver operating Characteristics')\n",
    "plt.legend(loc = \"lower right\")\n",
    "plt.show()"
   ]
  },
  {
   "cell_type": "code",
   "execution_count": null,
   "metadata": {},
   "outputs": [],
   "source": []
  }
 ],
 "metadata": {
  "kernelspec": {
   "display_name": "Python 3",
   "language": "python",
   "name": "python3"
  },
  "language_info": {
   "codemirror_mode": {
    "name": "ipython",
    "version": 3
   },
   "file_extension": ".py",
   "mimetype": "text/x-python",
   "name": "python",
   "nbconvert_exporter": "python",
   "pygments_lexer": "ipython3",
   "version": "3.7.6"
  }
 },
 "nbformat": 4,
 "nbformat_minor": 4
}
