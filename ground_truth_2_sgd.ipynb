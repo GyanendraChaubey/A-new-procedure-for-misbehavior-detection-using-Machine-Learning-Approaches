{
 "cells": [
  {
   "cell_type": "code",
   "execution_count": 1,
   "metadata": {},
   "outputs": [],
   "source": [
    "import pandas as pd\n",
    "import numpy as np"
   ]
  },
  {
   "cell_type": "code",
   "execution_count": 2,
   "metadata": {},
   "outputs": [
    {
     "data": {
      "text/html": [
       "<div>\n",
       "<style scoped>\n",
       "    .dataframe tbody tr th:only-of-type {\n",
       "        vertical-align: middle;\n",
       "    }\n",
       "\n",
       "    .dataframe tbody tr th {\n",
       "        vertical-align: top;\n",
       "    }\n",
       "\n",
       "    .dataframe thead th {\n",
       "        text-align: right;\n",
       "    }\n",
       "</style>\n",
       "<table border=\"1\" class=\"dataframe\">\n",
       "  <thead>\n",
       "    <tr style=\"text-align: right;\">\n",
       "      <th></th>\n",
       "      <th>type</th>\n",
       "      <th>time</th>\n",
       "      <th>sender</th>\n",
       "      <th>attackerType</th>\n",
       "      <th>messageID</th>\n",
       "      <th>pos__001</th>\n",
       "      <th>pos__002</th>\n",
       "      <th>pos__003</th>\n",
       "      <th>pos_noise__001</th>\n",
       "      <th>pos_noise__002</th>\n",
       "      <th>pos_noise__003</th>\n",
       "      <th>spd__001</th>\n",
       "      <th>spd__002</th>\n",
       "      <th>spd__003</th>\n",
       "      <th>spd_noise__001</th>\n",
       "      <th>spd_noise__002</th>\n",
       "      <th>spd_noise__003</th>\n",
       "    </tr>\n",
       "  </thead>\n",
       "  <tbody>\n",
       "    <tr>\n",
       "      <th>0</th>\n",
       "      <td>4</td>\n",
       "      <td>10800.065710</td>\n",
       "      <td>25</td>\n",
       "      <td>0</td>\n",
       "      <td>38</td>\n",
       "      <td>3594.503928</td>\n",
       "      <td>5822.136692</td>\n",
       "      <td>1.895</td>\n",
       "      <td>0.0</td>\n",
       "      <td>0.0</td>\n",
       "      <td>0.0</td>\n",
       "      <td>-0.020621</td>\n",
       "      <td>-35.392890</td>\n",
       "      <td>0.0</td>\n",
       "      <td>0.0</td>\n",
       "      <td>0.0</td>\n",
       "      <td>0.0</td>\n",
       "    </tr>\n",
       "    <tr>\n",
       "      <th>1</th>\n",
       "      <td>4</td>\n",
       "      <td>10800.241039</td>\n",
       "      <td>37</td>\n",
       "      <td>0</td>\n",
       "      <td>63</td>\n",
       "      <td>3588.387672</td>\n",
       "      <td>6003.151424</td>\n",
       "      <td>1.895</td>\n",
       "      <td>0.0</td>\n",
       "      <td>0.0</td>\n",
       "      <td>0.0</td>\n",
       "      <td>2.733597</td>\n",
       "      <td>36.816215</td>\n",
       "      <td>0.0</td>\n",
       "      <td>0.0</td>\n",
       "      <td>0.0</td>\n",
       "      <td>0.0</td>\n",
       "    </tr>\n",
       "    <tr>\n",
       "      <th>2</th>\n",
       "      <td>4</td>\n",
       "      <td>10800.361496</td>\n",
       "      <td>13</td>\n",
       "      <td>2</td>\n",
       "      <td>88</td>\n",
       "      <td>3584.615626</td>\n",
       "      <td>5891.170606</td>\n",
       "      <td>1.895</td>\n",
       "      <td>0.0</td>\n",
       "      <td>0.0</td>\n",
       "      <td>0.0</td>\n",
       "      <td>1.817582</td>\n",
       "      <td>42.584663</td>\n",
       "      <td>0.0</td>\n",
       "      <td>0.0</td>\n",
       "      <td>0.0</td>\n",
       "      <td>0.0</td>\n",
       "    </tr>\n",
       "    <tr>\n",
       "      <th>3</th>\n",
       "      <td>4</td>\n",
       "      <td>10800.502533</td>\n",
       "      <td>43</td>\n",
       "      <td>0</td>\n",
       "      <td>109</td>\n",
       "      <td>3822.766368</td>\n",
       "      <td>5266.901172</td>\n",
       "      <td>1.895</td>\n",
       "      <td>0.0</td>\n",
       "      <td>0.0</td>\n",
       "      <td>0.0</td>\n",
       "      <td>1.118316</td>\n",
       "      <td>-0.847054</td>\n",
       "      <td>0.0</td>\n",
       "      <td>0.0</td>\n",
       "      <td>0.0</td>\n",
       "      <td>0.0</td>\n",
       "    </tr>\n",
       "    <tr>\n",
       "      <th>4</th>\n",
       "      <td>4</td>\n",
       "      <td>10800.521696</td>\n",
       "      <td>31</td>\n",
       "      <td>0</td>\n",
       "      <td>130</td>\n",
       "      <td>3820.685635</td>\n",
       "      <td>5264.333061</td>\n",
       "      <td>1.895</td>\n",
       "      <td>0.0</td>\n",
       "      <td>0.0</td>\n",
       "      <td>0.0</td>\n",
       "      <td>0.885788</td>\n",
       "      <td>-0.529247</td>\n",
       "      <td>0.0</td>\n",
       "      <td>0.0</td>\n",
       "      <td>0.0</td>\n",
       "      <td>0.0</td>\n",
       "    </tr>\n",
       "  </tbody>\n",
       "</table>\n",
       "</div>"
      ],
      "text/plain": [
       "   type          time  sender  attackerType  messageID     pos__001  \\\n",
       "0     4  10800.065710      25             0         38  3594.503928   \n",
       "1     4  10800.241039      37             0         63  3588.387672   \n",
       "2     4  10800.361496      13             2         88  3584.615626   \n",
       "3     4  10800.502533      43             0        109  3822.766368   \n",
       "4     4  10800.521696      31             0        130  3820.685635   \n",
       "\n",
       "      pos__002  pos__003  pos_noise__001  pos_noise__002  pos_noise__003  \\\n",
       "0  5822.136692     1.895             0.0             0.0             0.0   \n",
       "1  6003.151424     1.895             0.0             0.0             0.0   \n",
       "2  5891.170606     1.895             0.0             0.0             0.0   \n",
       "3  5266.901172     1.895             0.0             0.0             0.0   \n",
       "4  5264.333061     1.895             0.0             0.0             0.0   \n",
       "\n",
       "   spd__001   spd__002  spd__003  spd_noise__001  spd_noise__002  \\\n",
       "0 -0.020621 -35.392890       0.0             0.0             0.0   \n",
       "1  2.733597  36.816215       0.0             0.0             0.0   \n",
       "2  1.817582  42.584663       0.0             0.0             0.0   \n",
       "3  1.118316  -0.847054       0.0             0.0             0.0   \n",
       "4  0.885788  -0.529247       0.0             0.0             0.0   \n",
       "\n",
       "   spd_noise__003  \n",
       "0             0.0  \n",
       "1             0.0  \n",
       "2             0.0  \n",
       "3             0.0  \n",
       "4             0.0  "
      ]
     },
     "execution_count": 2,
     "metadata": {},
     "output_type": "execute_result"
    }
   ],
   "source": [
    "df = pd.read_csv(r'D:/data_science/Research/GroundTruthJSONlog_2.csv')\n",
    "df.head()"
   ]
  },
  {
   "cell_type": "code",
   "execution_count": 3,
   "metadata": {},
   "outputs": [],
   "source": [
    "df.drop(['type','pos_noise__001','pos_noise__002','pos_noise__003','spd__003','spd_noise__001','spd_noise__002','spd_noise__003'], axis = 1, inplace = True)"
   ]
  },
  {
   "cell_type": "code",
   "execution_count": 4,
   "metadata": {},
   "outputs": [
    {
     "data": {
      "text/html": [
       "<div>\n",
       "<style scoped>\n",
       "    .dataframe tbody tr th:only-of-type {\n",
       "        vertical-align: middle;\n",
       "    }\n",
       "\n",
       "    .dataframe tbody tr th {\n",
       "        vertical-align: top;\n",
       "    }\n",
       "\n",
       "    .dataframe thead th {\n",
       "        text-align: right;\n",
       "    }\n",
       "</style>\n",
       "<table border=\"1\" class=\"dataframe\">\n",
       "  <thead>\n",
       "    <tr style=\"text-align: right;\">\n",
       "      <th></th>\n",
       "      <th>time</th>\n",
       "      <th>sender</th>\n",
       "      <th>attackerType</th>\n",
       "      <th>messageID</th>\n",
       "      <th>pos__001</th>\n",
       "      <th>pos__002</th>\n",
       "      <th>pos__003</th>\n",
       "      <th>spd__001</th>\n",
       "      <th>spd__002</th>\n",
       "    </tr>\n",
       "  </thead>\n",
       "  <tbody>\n",
       "    <tr>\n",
       "      <th>0</th>\n",
       "      <td>10800.065710</td>\n",
       "      <td>25</td>\n",
       "      <td>0</td>\n",
       "      <td>38</td>\n",
       "      <td>3594.503928</td>\n",
       "      <td>5822.136692</td>\n",
       "      <td>1.895</td>\n",
       "      <td>-0.020621</td>\n",
       "      <td>-35.392890</td>\n",
       "    </tr>\n",
       "    <tr>\n",
       "      <th>1</th>\n",
       "      <td>10800.241039</td>\n",
       "      <td>37</td>\n",
       "      <td>0</td>\n",
       "      <td>63</td>\n",
       "      <td>3588.387672</td>\n",
       "      <td>6003.151424</td>\n",
       "      <td>1.895</td>\n",
       "      <td>2.733597</td>\n",
       "      <td>36.816215</td>\n",
       "    </tr>\n",
       "  </tbody>\n",
       "</table>\n",
       "</div>"
      ],
      "text/plain": [
       "           time  sender  attackerType  messageID     pos__001     pos__002  \\\n",
       "0  10800.065710      25             0         38  3594.503928  5822.136692   \n",
       "1  10800.241039      37             0         63  3588.387672  6003.151424   \n",
       "\n",
       "   pos__003  spd__001   spd__002  \n",
       "0     1.895 -0.020621 -35.392890  \n",
       "1     1.895  2.733597  36.816215  "
      ]
     },
     "execution_count": 4,
     "metadata": {},
     "output_type": "execute_result"
    }
   ],
   "source": [
    "df.head(2)"
   ]
  },
  {
   "cell_type": "code",
   "execution_count": 5,
   "metadata": {},
   "outputs": [],
   "source": [
    "x = df[['time','sender','messageID','pos__001','pos__002','pos__003','spd__001','spd__002']]\n",
    "y = df.iloc[:,2:3].values"
   ]
  },
  {
   "cell_type": "code",
   "execution_count": 6,
   "metadata": {},
   "outputs": [
    {
     "name": "stderr",
     "output_type": "stream",
     "text": [
      "Using TensorFlow backend.\n",
      "C:\\Users\\Jayesh\\anaconda3\\lib\\site-packages\\tensorflow\\python\\framework\\dtypes.py:526: FutureWarning: Passing (type, 1) or '1type' as a synonym of type is deprecated; in a future version of numpy, it will be understood as (type, (1,)) / '(1,)type'.\n",
      "  _np_qint8 = np.dtype([(\"qint8\", np.int8, 1)])\n",
      "C:\\Users\\Jayesh\\anaconda3\\lib\\site-packages\\tensorflow\\python\\framework\\dtypes.py:527: FutureWarning: Passing (type, 1) or '1type' as a synonym of type is deprecated; in a future version of numpy, it will be understood as (type, (1,)) / '(1,)type'.\n",
      "  _np_quint8 = np.dtype([(\"quint8\", np.uint8, 1)])\n",
      "C:\\Users\\Jayesh\\anaconda3\\lib\\site-packages\\tensorflow\\python\\framework\\dtypes.py:528: FutureWarning: Passing (type, 1) or '1type' as a synonym of type is deprecated; in a future version of numpy, it will be understood as (type, (1,)) / '(1,)type'.\n",
      "  _np_qint16 = np.dtype([(\"qint16\", np.int16, 1)])\n",
      "C:\\Users\\Jayesh\\anaconda3\\lib\\site-packages\\tensorflow\\python\\framework\\dtypes.py:529: FutureWarning: Passing (type, 1) or '1type' as a synonym of type is deprecated; in a future version of numpy, it will be understood as (type, (1,)) / '(1,)type'.\n",
      "  _np_quint16 = np.dtype([(\"quint16\", np.uint16, 1)])\n",
      "C:\\Users\\Jayesh\\anaconda3\\lib\\site-packages\\tensorflow\\python\\framework\\dtypes.py:530: FutureWarning: Passing (type, 1) or '1type' as a synonym of type is deprecated; in a future version of numpy, it will be understood as (type, (1,)) / '(1,)type'.\n",
      "  _np_qint32 = np.dtype([(\"qint32\", np.int32, 1)])\n",
      "C:\\Users\\Jayesh\\anaconda3\\lib\\site-packages\\tensorflow\\python\\framework\\dtypes.py:535: FutureWarning: Passing (type, 1) or '1type' as a synonym of type is deprecated; in a future version of numpy, it will be understood as (type, (1,)) / '(1,)type'.\n",
      "  np_resource = np.dtype([(\"resource\", np.ubyte, 1)])\n"
     ]
    }
   ],
   "source": [
    "from imblearn.combine import SMOTETomek\n",
    "smk = SMOTETomek(random_state = 0)\n",
    "x, y = smk.fit_sample(x,y)"
   ]
  },
  {
   "cell_type": "code",
   "execution_count": 7,
   "metadata": {},
   "outputs": [],
   "source": [
    "#Spliting dataset into Train and Test set \n",
    "from sklearn.model_selection import train_test_split\n",
    "x_train,x_test,y_train,y_test = train_test_split(x,y,test_size = 0.3, random_state = 0)"
   ]
  },
  {
   "cell_type": "code",
   "execution_count": 8,
   "metadata": {},
   "outputs": [],
   "source": [
    "#Feature Scaling\n",
    "from sklearn.preprocessing import StandardScaler\n",
    "sc = StandardScaler()\n",
    "x_train = sc.fit_transform(x_train)\n",
    "x_test = sc.transform(x_test)"
   ]
  },
  {
   "cell_type": "code",
   "execution_count": 9,
   "metadata": {},
   "outputs": [],
   "source": [
    "#Building Model\n",
    "from sklearn.linear_model import SGDClassifier\n",
    "reg = SGDClassifier(loss = 'modified_huber',random_state = 0)\n",
    "reg.fit(x_train,y_train)\n",
    "y_pred = reg.predict(x_test)"
   ]
  },
  {
   "cell_type": "code",
   "execution_count": 10,
   "metadata": {},
   "outputs": [
    {
     "name": "stdout",
     "output_type": "stream",
     "text": [
      "Accuracy: 76.33%\n"
     ]
    }
   ],
   "source": [
    "\n",
    "#checking Accuracy\n",
    "from sklearn.metrics import accuracy_score\n",
    "accuracy = accuracy_score(y_test, y_pred)\n",
    "print(\"Accuracy: %.2f%%\" % (accuracy * 100.0))"
   ]
  },
  {
   "cell_type": "code",
   "execution_count": 11,
   "metadata": {},
   "outputs": [
    {
     "name": "stdout",
     "output_type": "stream",
     "text": [
      "[[171  89]\n",
      " [ 36 232]]\n"
     ]
    },
    {
     "name": "stderr",
     "output_type": "stream",
     "text": [
      "C:\\Users\\Jayesh\\anaconda3\\lib\\site-packages\\ipykernel_launcher.py:8: MatplotlibDeprecationWarning: Adding an axes using the same arguments as a previous axes currently reuses the earlier instance.  In a future version, a new instance will always be created and returned.  Meanwhile, this warning can be suppressed, and the future behavior ensured, by passing a unique label to each axes instance.\n",
      "  \n"
     ]
    },
    {
     "data": {
      "text/plain": [
       "Text(0.5, 1, 'SGD')"
      ]
     },
     "execution_count": 11,
     "metadata": {},
     "output_type": "execute_result"
    },
    {
     "data": {
      "image/png": "[encoded data removed]",
      "text/plain": [
       "<Figure size 432x288 with 2 Axes>"
      ]
     },
     "metadata": {
      "needs_background": "light"
     },
     "output_type": "display_data"
    }
   ],
   "source": [
    "#confusion matrix\n",
    "from sklearn.metrics import confusion_matrix\n",
    "con = confusion_matrix(y_test,y_pred)\n",
    "print(con)\n",
    "import seaborn as sns\n",
    "import matplotlib.pyplot as plt\n",
    "axes = sns.heatmap(con, square=True,annot=True,fmt='d',cbar = True, cmap = plt.cm.GnBu)\n",
    "ax = plt.axes()\n",
    "ax.set_title('SGD')"
   ]
  },
  {
   "cell_type": "code",
   "execution_count": 12,
   "metadata": {},
   "outputs": [
    {
     "name": "stdout",
     "output_type": "stream",
     "text": [
      "SGD\n",
      "              precision    recall  f1-score   support\n",
      "\n",
      "           0       0.83      0.66      0.73       260\n",
      "           2       0.72      0.87      0.79       268\n",
      "\n",
      "    accuracy                           0.76       528\n",
      "   macro avg       0.77      0.76      0.76       528\n",
      "weighted avg       0.77      0.76      0.76       528\n",
      "\n"
     ]
    }
   ],
   "source": [
    "from sklearn.metrics import classification_report\n",
    "print('SGD')\n",
    "print(classification_report(y_test, y_pred))\n"
   ]
  },
  {
   "cell_type": "code",
   "execution_count": 13,
   "metadata": {},
   "outputs": [
    {
     "name": "stdout",
     "output_type": "stream",
     "text": [
      "[0.99742765 0.92381322 0.47848752 1.         0.81015265 1.\n",
      " 1.         1.         1.         1.         0.         0.\n",
      " 1.         0.         0.         0.62086432 1.         1.\n",
      " 0.         0.         0.55875803 0.         0.         0.96405974\n",
      " 0.98026774 0.85196143 1.         0.         0.         0.\n",
      " 1.         1.         0.         1.         1.         1.\n",
      " 0.95176253 0.         0.57257638 0.         0.78293828 0.63117925\n",
      " 1.         1.         0.95659339 1.         0.         0.65429971\n",
      " 0.68878375 0.97723238 0.         0.         0.80395742 1.\n",
      " 0.         1.         0.         1.         1.         1.\n",
      " 0.50202544 0.96172913 0.89379275 0.         0.54409576 0.\n",
      " 0.         0.         1.         0.         1.         0.\n",
      " 1.         0.5425052  0.93771136 0.         1.         0.\n",
      " 0.66595584 0.77846843 1.         0.         0.         1.\n",
      " 0.         0.98394932 1.         1.         0.96045095 0.90977888\n",
      " 1.         0.         1.         0.         1.         0.\n",
      " 1.         0.         0.         1.         1.         1.\n",
      " 1.         0.         1.         0.05729106 0.         1.\n",
      " 0.         1.         0.97896996 0.         1.         1.\n",
      " 0.         1.         1.         0.99592361 0.         1.\n",
      " 0.56515954 0.37886041 0.         1.         1.         0.36710594\n",
      " 0.64386134 1.         1.         1.         0.97256356 0.68685616\n",
      " 1.         1.         1.         1.         1.         1.\n",
      " 1.         1.         1.         0.97885421 0.04844037 1.\n",
      " 0.2914148  0.         0.         0.         1.         0.\n",
      " 0.         0.97930754 0.         0.         0.         1.\n",
      " 1.         0.92250888 0.98716539 0.63375047 0.         0.\n",
      " 0.81462738 0.54434768 1.         0.         1.         0.99211694\n",
      " 0.40877357 1.         0.         0.         1.         0.89038433\n",
      " 1.         0.50501879 0.         1.         1.         1.\n",
      " 0.98880953 1.         1.         1.         0.47271441 0.\n",
      " 1.         0.95140932 0.         0.98447645 1.         0.95340109\n",
      " 1.         1.         1.         0.         1.         1.\n",
      " 1.         0.         1.         1.         1.         0.\n",
      " 0.         1.         1.         0.         1.         1.\n",
      " 0.31760497 0.         0.         1.         0.         1.\n",
      " 0.96301693 0.         1.         0.98661721 0.         0.75275437\n",
      " 1.         1.         1.         0.         1.         1.\n",
      " 0.35374631 0.         0.98904758 0.         1.         1.\n",
      " 0.         0.         0.05506042 1.         0.         1.\n",
      " 0.         0.32114416 0.         0.         0.         1.\n",
      " 1.         1.         0.17416689 0.35891569 0.47005558 0.\n",
      " 0.         0.         1.         1.         0.41529222 1.\n",
      " 0.1486536  1.         0.         1.         1.         0.51881187\n",
      " 0.85487583 0.         0.29342878 0.         0.66484938 1.\n",
      " 0.83308019 0.81354548 1.         0.03828136 0.         0.\n",
      " 1.         0.         0.95633358 1.         1.         1.\n",
      " 0.74933253 1.         0.         0.         0.46218425 0.\n",
      " 0.99351146 1.         0.03015219 1.         0.         1.\n",
      " 1.         1.         0.9789909  0.71060021 1.         0.\n",
      " 1.         1.         0.         1.         0.41485345 1.\n",
      " 0.93320799 0.         0.96661345 1.         1.         1.\n",
      " 1.         0.87845241 0.95704031 0.94130113 0.69296703 0.98880664\n",
      " 1.         0.69148153 1.         0.0701708  1.         0.\n",
      " 0.         1.         0.         0.         0.3059154  1.\n",
      " 0.47981858 0.         1.         0.38614645 1.         0.34203403\n",
      " 0.67649432 0.34133676 0.         0.         0.25045994 0.\n",
      " 0.75387441 1.         0.         1.         1.         0.47485114\n",
      " 1.         1.         0.         1.         1.         1.\n",
      " 0.40576146 1.         0.90129584 0.         0.         1.\n",
      " 0.         0.13018806 0.16443596 1.         1.         1.\n",
      " 0.         0.39313924 1.         0.9740203  0.98422754 0.\n",
      " 1.         0.         1.         1.         0.46171586 1.\n",
      " 1.         1.         0.         1.         0.         0.\n",
      " 1.         0.         0.32038328 1.         0.         0.\n",
      " 1.         0.         1.         1.         1.         1.\n",
      " 1.         0.94578419 0.         1.         1.         0.\n",
      " 1.         0.         1.         0.28997082 0.98422448 0.\n",
      " 1.         0.27060946 1.         0.43250123 0.47027276 0.30876348\n",
      " 1.         0.55467703 0.         0.75311986 1.         0.96578077\n",
      " 1.         1.         0.         0.94053559 1.         0.\n",
      " 1.         1.         0.71299566 1.         1.         0.\n",
      " 0.12852842 0.91087445 0.7946041  1.         1.         0.\n",
      " 1.         0.         0.         1.         0.         0.\n",
      " 0.36154359 0.99482829 0.         0.30555856 1.         1.\n",
      " 0.95139516 0.         0.88976016 1.         1.         0.22765854\n",
      " 0.63671726 0.13472524 0.19214019 1.         0.81512407 0.62766771\n",
      " 0.67788281 0.88495509 0.         1.         1.         0.76959265\n",
      " 0.         0.         1.         0.         0.92387796 1.\n",
      " 0.95579567 0.08113464 0.         0.         1.         0.90274023\n",
      " 1.         0.         1.         1.         0.         0.\n",
      " 1.         0.         1.         1.         1.         0.94285632\n",
      " 1.         0.         0.4380636  0.89045718 0.         0.\n",
      " 0.         0.40473093 1.         0.79721916 0.94917182 0.\n",
      " 1.         0.77244694 1.         0.31163587 0.         0.15877038\n",
      " 1.         0.68437942 0.70592592 1.         0.         1.\n",
      " 0.         0.97532453 0.         0.27253543 0.         1.\n",
      " 1.         1.         1.         0.         0.         0.80750317]\n",
      "Logistic : ROC AUC = 0.806\n"
     ]
    },
    {
     "data": {
      "image/png": "[encoded data removed]",
      "text/plain": [
       "<Figure size 432x288 with 1 Axes>"
      ]
     },
     "metadata": {
      "needs_background": "light"
     },
     "output_type": "display_data"
    }
   ],
   "source": [
    "#ROC and AUC curve\n",
    "from sklearn.metrics import roc_auc_score\n",
    "from sklearn.metrics import roc_curve\n",
    "clf_probs = reg.predict_proba(x_test)\n",
    "clf_probs = clf_probs[:,1]\n",
    "print(clf_probs)\n",
    "ras = roc_auc_score(y_test,clf_probs)\n",
    "print(\"Logistic : ROC AUC = %.3f\" %(ras))\n",
    "from sklearn.preprocessing import label_binarize\n",
    "y = label_binarize(y_test,classes = [0,2])\n",
    "n_classes = y.shape[1]\n",
    "fpr,tpr,_ = roc_curve(y,clf_probs)\n",
    "plt.figure()\n",
    "lw = 2\n",
    "plt.plot(fpr,tpr, color = \"orange\", lw = lw, label = \"ROC curve (area = %0.2f\" % ras)\n",
    "plt.plot([0,1],[0,1], color = \"blue\",lw = lw, linestyle = '--')\n",
    "plt.xlim(0.0, 1.0)\n",
    "plt.ylim(0.0, 1.05)\n",
    "plt.xlabel('False Positive Value')\n",
    "plt.ylabel('True Positive Value')\n",
    "plt.title('Receiver operating Characteristics')\n",
    "plt.legend(loc = \"lower right\")\n",
    "plt.show()"
   ]
  },
  {
   "cell_type": "code",
   "execution_count": null,
   "metadata": {},
   "outputs": [],
   "source": []
  },
  {
   "cell_type": "code",
   "execution_count": null,
   "metadata": {},
   "outputs": [],
   "source": []
  }
 ],
 "metadata": {
  "kernelspec": {
   "display_name": "Python 3",
   "language": "python",
   "name": "python3"
  },
  "language_info": {
   "codemirror_mode": {
    "name": "ipython",
    "version": 3
   },
   "file_extension": ".py",
   "mimetype": "text/x-python",
   "name": "python",
   "nbconvert_exporter": "python",
   "pygments_lexer": "ipython3",
   "version": "3.7.6"
  }
 },
 "nbformat": 4,
 "nbformat_minor": 4
}
