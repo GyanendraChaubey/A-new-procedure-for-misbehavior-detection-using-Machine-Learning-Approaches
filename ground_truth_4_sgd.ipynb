{
 "cells": [
  {
   "cell_type": "code",
   "execution_count": 1,
   "metadata": {},
   "outputs": [],
   "source": [
    "import pandas as pd\n",
    "import numpy as np"
   ]
  },
  {
   "cell_type": "code",
   "execution_count": 2,
   "metadata": {},
   "outputs": [
    {
     "data": {
      "text/html": [
       "<div>\n",
       "<style scoped>\n",
       "    .dataframe tbody tr th:only-of-type {\n",
       "        vertical-align: middle;\n",
       "    }\n",
       "\n",
       "    .dataframe tbody tr th {\n",
       "        vertical-align: top;\n",
       "    }\n",
       "\n",
       "    .dataframe thead th {\n",
       "        text-align: right;\n",
       "    }\n",
       "</style>\n",
       "<table border=\"1\" class=\"dataframe\">\n",
       "  <thead>\n",
       "    <tr style=\"text-align: right;\">\n",
       "      <th></th>\n",
       "      <th>type</th>\n",
       "      <th>time</th>\n",
       "      <th>sender</th>\n",
       "      <th>attackerType</th>\n",
       "      <th>messageID</th>\n",
       "      <th>pos__001</th>\n",
       "      <th>pos__002</th>\n",
       "      <th>pos__003</th>\n",
       "      <th>pos_noise__001</th>\n",
       "      <th>pos_noise__002</th>\n",
       "      <th>pos_noise__003</th>\n",
       "      <th>spd__001</th>\n",
       "      <th>spd__002</th>\n",
       "      <th>spd__003</th>\n",
       "      <th>spd_noise__001</th>\n",
       "      <th>spd_noise__002</th>\n",
       "      <th>spd_noise__003</th>\n",
       "    </tr>\n",
       "  </thead>\n",
       "  <tbody>\n",
       "    <tr>\n",
       "      <th>0</th>\n",
       "      <td>4</td>\n",
       "      <td>18000.023118</td>\n",
       "      <td>37</td>\n",
       "      <td>0</td>\n",
       "      <td>198</td>\n",
       "      <td>3650.092497</td>\n",
       "      <td>5186.984424</td>\n",
       "      <td>1.895</td>\n",
       "      <td>0.0</td>\n",
       "      <td>0.0</td>\n",
       "      <td>0.0</td>\n",
       "      <td>4.989724</td>\n",
       "      <td>-31.693251</td>\n",
       "      <td>0.0</td>\n",
       "      <td>0.0</td>\n",
       "      <td>0.0</td>\n",
       "      <td>0.0</td>\n",
       "    </tr>\n",
       "    <tr>\n",
       "      <th>1</th>\n",
       "      <td>4</td>\n",
       "      <td>18000.038918</td>\n",
       "      <td>109</td>\n",
       "      <td>0</td>\n",
       "      <td>288</td>\n",
       "      <td>3463.243621</td>\n",
       "      <td>5199.597797</td>\n",
       "      <td>1.895</td>\n",
       "      <td>0.0</td>\n",
       "      <td>0.0</td>\n",
       "      <td>0.0</td>\n",
       "      <td>0.000000</td>\n",
       "      <td>0.000000</td>\n",
       "      <td>0.0</td>\n",
       "      <td>0.0</td>\n",
       "      <td>0.0</td>\n",
       "      <td>0.0</td>\n",
       "    </tr>\n",
       "    <tr>\n",
       "      <th>2</th>\n",
       "      <td>4</td>\n",
       "      <td>18000.046296</td>\n",
       "      <td>211</td>\n",
       "      <td>4</td>\n",
       "      <td>359</td>\n",
       "      <td>6085.751996</td>\n",
       "      <td>5734.472739</td>\n",
       "      <td>1.895</td>\n",
       "      <td>0.0</td>\n",
       "      <td>0.0</td>\n",
       "      <td>0.0</td>\n",
       "      <td>0.000000</td>\n",
       "      <td>0.000000</td>\n",
       "      <td>0.0</td>\n",
       "      <td>0.0</td>\n",
       "      <td>0.0</td>\n",
       "      <td>0.0</td>\n",
       "    </tr>\n",
       "    <tr>\n",
       "      <th>3</th>\n",
       "      <td>4</td>\n",
       "      <td>18000.063770</td>\n",
       "      <td>49</td>\n",
       "      <td>0</td>\n",
       "      <td>441</td>\n",
       "      <td>3643.843269</td>\n",
       "      <td>5226.677669</td>\n",
       "      <td>1.895</td>\n",
       "      <td>0.0</td>\n",
       "      <td>0.0</td>\n",
       "      <td>0.0</td>\n",
       "      <td>5.027791</td>\n",
       "      <td>-31.935042</td>\n",
       "      <td>0.0</td>\n",
       "      <td>0.0</td>\n",
       "      <td>0.0</td>\n",
       "      <td>0.0</td>\n",
       "    </tr>\n",
       "    <tr>\n",
       "      <th>4</th>\n",
       "      <td>4</td>\n",
       "      <td>18000.076496</td>\n",
       "      <td>187</td>\n",
       "      <td>0</td>\n",
       "      <td>535</td>\n",
       "      <td>3961.684557</td>\n",
       "      <td>5251.775842</td>\n",
       "      <td>1.895</td>\n",
       "      <td>0.0</td>\n",
       "      <td>0.0</td>\n",
       "      <td>0.0</td>\n",
       "      <td>0.000000</td>\n",
       "      <td>0.000000</td>\n",
       "      <td>0.0</td>\n",
       "      <td>0.0</td>\n",
       "      <td>0.0</td>\n",
       "      <td>0.0</td>\n",
       "    </tr>\n",
       "  </tbody>\n",
       "</table>\n",
       "</div>"
      ],
      "text/plain": [
       "   type          time  sender  attackerType  messageID     pos__001  \\\n",
       "0     4  18000.023118      37             0        198  3650.092497   \n",
       "1     4  18000.038918     109             0        288  3463.243621   \n",
       "2     4  18000.046296     211             4        359  6085.751996   \n",
       "3     4  18000.063770      49             0        441  3643.843269   \n",
       "4     4  18000.076496     187             0        535  3961.684557   \n",
       "\n",
       "      pos__002  pos__003  pos_noise__001  pos_noise__002  pos_noise__003  \\\n",
       "0  5186.984424     1.895             0.0             0.0             0.0   \n",
       "1  5199.597797     1.895             0.0             0.0             0.0   \n",
       "2  5734.472739     1.895             0.0             0.0             0.0   \n",
       "3  5226.677669     1.895             0.0             0.0             0.0   \n",
       "4  5251.775842     1.895             0.0             0.0             0.0   \n",
       "\n",
       "   spd__001   spd__002  spd__003  spd_noise__001  spd_noise__002  \\\n",
       "0  4.989724 -31.693251       0.0             0.0             0.0   \n",
       "1  0.000000   0.000000       0.0             0.0             0.0   \n",
       "2  0.000000   0.000000       0.0             0.0             0.0   \n",
       "3  5.027791 -31.935042       0.0             0.0             0.0   \n",
       "4  0.000000   0.000000       0.0             0.0             0.0   \n",
       "\n",
       "   spd_noise__003  \n",
       "0             0.0  \n",
       "1             0.0  \n",
       "2             0.0  \n",
       "3             0.0  \n",
       "4             0.0  "
      ]
     },
     "execution_count": 2,
     "metadata": {},
     "output_type": "execute_result"
    }
   ],
   "source": [
    "df = pd.read_csv(r'D:/data_science/Research/4.csv')\n",
    "df.head()"
   ]
  },
  {
   "cell_type": "code",
   "execution_count": 3,
   "metadata": {},
   "outputs": [],
   "source": [
    "df.drop(['type','pos_noise__001','pos_noise__002','pos_noise__003','spd__003','spd_noise__001','spd_noise__002','spd_noise__003'], axis = 1, inplace = True)"
   ]
  },
  {
   "cell_type": "code",
   "execution_count": 4,
   "metadata": {},
   "outputs": [
    {
     "data": {
      "text/html": [
       "<div>\n",
       "<style scoped>\n",
       "    .dataframe tbody tr th:only-of-type {\n",
       "        vertical-align: middle;\n",
       "    }\n",
       "\n",
       "    .dataframe tbody tr th {\n",
       "        vertical-align: top;\n",
       "    }\n",
       "\n",
       "    .dataframe thead th {\n",
       "        text-align: right;\n",
       "    }\n",
       "</style>\n",
       "<table border=\"1\" class=\"dataframe\">\n",
       "  <thead>\n",
       "    <tr style=\"text-align: right;\">\n",
       "      <th></th>\n",
       "      <th>time</th>\n",
       "      <th>sender</th>\n",
       "      <th>attackerType</th>\n",
       "      <th>messageID</th>\n",
       "      <th>pos__001</th>\n",
       "      <th>pos__002</th>\n",
       "      <th>pos__003</th>\n",
       "      <th>spd__001</th>\n",
       "      <th>spd__002</th>\n",
       "    </tr>\n",
       "  </thead>\n",
       "  <tbody>\n",
       "    <tr>\n",
       "      <th>0</th>\n",
       "      <td>18000.023118</td>\n",
       "      <td>37</td>\n",
       "      <td>0</td>\n",
       "      <td>198</td>\n",
       "      <td>3650.092497</td>\n",
       "      <td>5186.984424</td>\n",
       "      <td>1.895</td>\n",
       "      <td>4.989724</td>\n",
       "      <td>-31.693251</td>\n",
       "    </tr>\n",
       "    <tr>\n",
       "      <th>1</th>\n",
       "      <td>18000.038918</td>\n",
       "      <td>109</td>\n",
       "      <td>0</td>\n",
       "      <td>288</td>\n",
       "      <td>3463.243621</td>\n",
       "      <td>5199.597797</td>\n",
       "      <td>1.895</td>\n",
       "      <td>0.000000</td>\n",
       "      <td>0.000000</td>\n",
       "    </tr>\n",
       "  </tbody>\n",
       "</table>\n",
       "</div>"
      ],
      "text/plain": [
       "           time  sender  attackerType  messageID     pos__001     pos__002  \\\n",
       "0  18000.023118      37             0        198  3650.092497  5186.984424   \n",
       "1  18000.038918     109             0        288  3463.243621  5199.597797   \n",
       "\n",
       "   pos__003  spd__001   spd__002  \n",
       "0     1.895  4.989724 -31.693251  \n",
       "1     1.895  0.000000   0.000000  "
      ]
     },
     "execution_count": 4,
     "metadata": {},
     "output_type": "execute_result"
    }
   ],
   "source": [
    "df.head(2)"
   ]
  },
  {
   "cell_type": "code",
   "execution_count": 5,
   "metadata": {},
   "outputs": [],
   "source": [
    "x = df[['time','sender','messageID','pos__001','pos__002','pos__003','spd__001','spd__002']]\n",
    "y = df.iloc[:,2:3].values"
   ]
  },
  {
   "cell_type": "code",
   "execution_count": 6,
   "metadata": {},
   "outputs": [
    {
     "name": "stderr",
     "output_type": "stream",
     "text": [
      "Using TensorFlow backend.\n",
      "C:\\Users\\Jayesh\\anaconda3\\lib\\site-packages\\tensorflow\\python\\framework\\dtypes.py:526: FutureWarning: Passing (type, 1) or '1type' as a synonym of type is deprecated; in a future version of numpy, it will be understood as (type, (1,)) / '(1,)type'.\n",
      "  _np_qint8 = np.dtype([(\"qint8\", np.int8, 1)])\n",
      "C:\\Users\\Jayesh\\anaconda3\\lib\\site-packages\\tensorflow\\python\\framework\\dtypes.py:527: FutureWarning: Passing (type, 1) or '1type' as a synonym of type is deprecated; in a future version of numpy, it will be understood as (type, (1,)) / '(1,)type'.\n",
      "  _np_quint8 = np.dtype([(\"quint8\", np.uint8, 1)])\n",
      "C:\\Users\\Jayesh\\anaconda3\\lib\\site-packages\\tensorflow\\python\\framework\\dtypes.py:528: FutureWarning: Passing (type, 1) or '1type' as a synonym of type is deprecated; in a future version of numpy, it will be understood as (type, (1,)) / '(1,)type'.\n",
      "  _np_qint16 = np.dtype([(\"qint16\", np.int16, 1)])\n",
      "C:\\Users\\Jayesh\\anaconda3\\lib\\site-packages\\tensorflow\\python\\framework\\dtypes.py:529: FutureWarning: Passing (type, 1) or '1type' as a synonym of type is deprecated; in a future version of numpy, it will be understood as (type, (1,)) / '(1,)type'.\n",
      "  _np_quint16 = np.dtype([(\"quint16\", np.uint16, 1)])\n",
      "C:\\Users\\Jayesh\\anaconda3\\lib\\site-packages\\tensorflow\\python\\framework\\dtypes.py:530: FutureWarning: Passing (type, 1) or '1type' as a synonym of type is deprecated; in a future version of numpy, it will be understood as (type, (1,)) / '(1,)type'.\n",
      "  _np_qint32 = np.dtype([(\"qint32\", np.int32, 1)])\n",
      "C:\\Users\\Jayesh\\anaconda3\\lib\\site-packages\\tensorflow\\python\\framework\\dtypes.py:535: FutureWarning: Passing (type, 1) or '1type' as a synonym of type is deprecated; in a future version of numpy, it will be understood as (type, (1,)) / '(1,)type'.\n",
      "  np_resource = np.dtype([(\"resource\", np.ubyte, 1)])\n"
     ]
    }
   ],
   "source": [
    "from imblearn.combine import SMOTETomek\n",
    "smk = SMOTETomek(random_state = 0)\n",
    "x, y = smk.fit_sample(x,y)"
   ]
  },
  {
   "cell_type": "code",
   "execution_count": 7,
   "metadata": {},
   "outputs": [],
   "source": [
    "#Spliting dataset into Train and Test set \n",
    "from sklearn.model_selection import train_test_split\n",
    "x_train,x_test,y_train,y_test = train_test_split(x,y,test_size = 0.3, random_state = 0)"
   ]
  },
  {
   "cell_type": "code",
   "execution_count": 8,
   "metadata": {},
   "outputs": [],
   "source": [
    "#Feature Scaling\n",
    "from sklearn.preprocessing import StandardScaler\n",
    "sc = StandardScaler()\n",
    "x_train = sc.fit_transform(x_train)\n",
    "x_test = sc.transform(x_test)"
   ]
  },
  {
   "cell_type": "code",
   "execution_count": 9,
   "metadata": {},
   "outputs": [],
   "source": [
    "#Building Model\n",
    "from sklearn.linear_model import SGDClassifier\n",
    "reg = SGDClassifier(loss = 'modified_huber',random_state = 0)\n",
    "reg.fit(x_train,y_train)\n",
    "y_pred = reg.predict(x_test)"
   ]
  },
  {
   "cell_type": "code",
   "execution_count": 10,
   "metadata": {},
   "outputs": [
    {
     "name": "stdout",
     "output_type": "stream",
     "text": [
      "Accuracy: 52.20%\n"
     ]
    }
   ],
   "source": [
    "\n",
    "#checking Accuracy\n",
    "from sklearn.metrics import accuracy_score\n",
    "accuracy = accuracy_score(y_test, y_pred)\n",
    "print(\"Accuracy: %.2f%%\" % (accuracy * 100.0))"
   ]
  },
  {
   "cell_type": "code",
   "execution_count": 11,
   "metadata": {},
   "outputs": [
    {
     "name": "stdout",
     "output_type": "stream",
     "text": [
      "[[ 58 900]\n",
      " [  0 925]]\n"
     ]
    },
    {
     "name": "stderr",
     "output_type": "stream",
     "text": [
      "C:\\Users\\Jayesh\\anaconda3\\lib\\site-packages\\ipykernel_launcher.py:8: MatplotlibDeprecationWarning: Adding an axes using the same arguments as a previous axes currently reuses the earlier instance.  In a future version, a new instance will always be created and returned.  Meanwhile, this warning can be suppressed, and the future behavior ensured, by passing a unique label to each axes instance.\n",
      "  \n"
     ]
    },
    {
     "data": {
      "text/plain": [
       "Text(0.5, 1, 'SGD')"
      ]
     },
     "execution_count": 11,
     "metadata": {},
     "output_type": "execute_result"
    },
    {
     "data": {
      "image/png": "[encoded data removed]",
      "text/plain": [
       "<Figure size 432x288 with 2 Axes>"
      ]
     },
     "metadata": {
      "needs_background": "light"
     },
     "output_type": "display_data"
    }
   ],
   "source": [
    "#confusion matrix\n",
    "from sklearn.metrics import confusion_matrix\n",
    "con = confusion_matrix(y_test,y_pred)\n",
    "print(con)\n",
    "import seaborn as sns\n",
    "import matplotlib.pyplot as plt\n",
    "axes = sns.heatmap(con, square=True,annot=True,fmt='d',cbar = True, cmap = plt.cm.GnBu)\n",
    "ax = plt.axes()\n",
    "ax.set_title('SGD')"
   ]
  },
  {
   "cell_type": "code",
   "execution_count": 12,
   "metadata": {},
   "outputs": [
    {
     "name": "stdout",
     "output_type": "stream",
     "text": [
      "SGD\n",
      "              precision    recall  f1-score   support\n",
      "\n",
      "           0       1.00      0.06      0.11       958\n",
      "           4       0.51      1.00      0.67       925\n",
      "\n",
      "    accuracy                           0.52      1883\n",
      "   macro avg       0.75      0.53      0.39      1883\n",
      "weighted avg       0.76      0.52      0.39      1883\n",
      "\n"
     ]
    }
   ],
   "source": [
    "from sklearn.metrics import classification_report\n",
    "print('SGD')\n",
    "print(classification_report(y_test, y_pred))\n"
   ]
  },
  {
   "cell_type": "code",
   "execution_count": 13,
   "metadata": {},
   "outputs": [
    {
     "name": "stdout",
     "output_type": "stream",
     "text": [
      "[0.63456964 0.87081989 0.7177297  ... 0.64313718 0.97157105 0.81604581]\n",
      "Logistic : ROC AUC = 0.573\n"
     ]
    },
    {
     "data": {
      "image/png": "[encoded data removed]",
      "text/plain": [
       "<Figure size 432x288 with 1 Axes>"
      ]
     },
     "metadata": {
      "needs_background": "light"
     },
     "output_type": "display_data"
    }
   ],
   "source": [
    "#ROC and AUC curve\n",
    "from sklearn.metrics import roc_auc_score\n",
    "from sklearn.metrics import roc_curve\n",
    "clf_probs = reg.predict_proba(x_test)\n",
    "clf_probs = clf_probs[:,1]\n",
    "print(clf_probs)\n",
    "ras = roc_auc_score(y_test,clf_probs)\n",
    "print(\"Logistic : ROC AUC = %.3f\" %(ras))\n",
    "from sklearn.preprocessing import label_binarize\n",
    "y = label_binarize(y_test,classes = [0,4])\n",
    "n_classes = y.shape[1]\n",
    "fpr,tpr,_ = roc_curve(y,clf_probs)\n",
    "plt.figure()\n",
    "lw = 2\n",
    "plt.plot(fpr,tpr, color = \"orange\", lw = lw, label = \"ROC curve (area = %0.2f\" % ras)\n",
    "plt.plot([0,1],[0,1], color = \"blue\",lw = lw, linestyle = '--')\n",
    "plt.xlim(0.0, 1.0)\n",
    "plt.ylim(0.0, 1.05)\n",
    "plt.xlabel('False Positive Value')\n",
    "plt.ylabel('True Positive Value')\n",
    "plt.title('Receiver operating Characteristics')\n",
    "plt.legend(loc = \"lower right\")\n",
    "plt.show()"
   ]
  },
  {
   "cell_type": "code",
   "execution_count": null,
   "metadata": {},
   "outputs": [],
   "source": []
  },
  {
   "cell_type": "code",
   "execution_count": null,
   "metadata": {},
   "outputs": [],
   "source": []
  }
 ],
 "metadata": {
  "kernelspec": {
   "display_name": "Python 3",
   "language": "python",
   "name": "python3"
  },
  "language_info": {
   "codemirror_mode": {
    "name": "ipython",
    "version": 3
   },
   "file_extension": ".py",
   "mimetype": "text/x-python",
   "name": "python",
   "nbconvert_exporter": "python",
   "pygments_lexer": "ipython3",
   "version": "3.7.6"
  }
 },
 "nbformat": 4,
 "nbformat_minor": 4
}
